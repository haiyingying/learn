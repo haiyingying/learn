{
 "cells": [
  {
   "cell_type": "code",
   "execution_count": 1,
   "id": "9d61a7a1",
   "metadata": {},
   "outputs": [],
   "source": [
    "import requests"
   ]
  },
  {
   "cell_type": "markdown",
   "id": "0eda495e",
   "metadata": {},
   "source": [
    "## Learn Requests Library\n",
    "https://www.youtube.com/watch?v=ChwSD5e0Qs0"
   ]
  },
  {
   "cell_type": "markdown",
   "id": "d8423ee4",
   "metadata": {},
   "source": [
    "## GET requests - passing parameters in URLs\n",
    "A URL that returns an HTTP response in JSON format is called an API endpoint.\n",
    "Here's an example, https://httpbin.org/get\n",
    "\n",
    "With GET requests we can add parameters onto the URL to retrieve specific data.\n",
    "We define the params as a dictionary, and add params=payload to the Request.\n",
    "The Requests library builds the whole URL for us."
   ]
  },
  {
   "cell_type": "code",
   "execution_count": 2,
   "id": "0ac0fb59",
   "metadata": {},
   "outputs": [
    {
     "name": "stdout",
     "output_type": "stream",
     "text": [
      "https://httpbin.org/get?key1=value1&key2=value2\n"
     ]
    }
   ],
   "source": [
    "payload = {'key1': 'value1', 'key2': 'value2'}\n",
    "r = requests.get('https://httpbin.org/get', params=payload)\n",
    "print(r.url)"
   ]
  },
  {
   "cell_type": "markdown",
   "id": "876e003f",
   "metadata": {},
   "source": [
    "### Passing a List as a parameter\n",
    "Still use key:value pairs, with the list as the value.\n",
    "You can see here all the different attributes included in an HTTP Request response.\n",
    "\n",
    "The response is assigned to the variable r. \n",
    "* Response code: 200 if successful, 404 bad request\n",
    "* Headers: We get response of header variable. We can also pass in header variable\n",
    "* Text: All the variables we put in as key:value pair\n",
    "* Content: in a bite format\n",
    "* Json: json format"
   ]
  },
  {
   "cell_type": "code",
   "execution_count": 3,
   "id": "887afb2f",
   "metadata": {},
   "outputs": [
    {
     "name": "stdout",
     "output_type": "stream",
     "text": [
      "URL:  https://httpbin.org/get?key1=value1&key2=value2&key2=value3\n",
      "ENCODING:  utf-8\n",
      "STATUS_CODE:  200\n",
      "HEADERS:  {'Date': 'Sun, 03 Apr 2022 10:10:18 GMT', 'Content-Type': 'application/json', 'Content-Length': '427', 'Connection': 'keep-alive', 'Server': 'gunicorn/19.9.0', 'Access-Control-Allow-Origin': '*', 'Access-Control-Allow-Credentials': 'true'}\n",
      "TEXT:  {\n",
      "  \"args\": {\n",
      "    \"key1\": \"value1\", \n",
      "    \"key2\": [\n",
      "      \"value2\", \n",
      "      \"value3\"\n",
      "    ]\n",
      "  }, \n",
      "  \"headers\": {\n",
      "    \"Accept\": \"*/*\", \n",
      "    \"Accept-Encoding\": \"gzip, deflate, br\", \n",
      "    \"Host\": \"httpbin.org\", \n",
      "    \"User-Agent\": \"python-requests/2.26.0\", \n",
      "    \"X-Amzn-Trace-Id\": \"Root=1-6249728a-14386c782b10d67f5fd85264\"\n",
      "  }, \n",
      "  \"origin\": \"149.167.150.181\", \n",
      "  \"url\": \"https://httpbin.org/get?key1=value1&key2=value2&key2=value3\"\n",
      "}\n",
      "\n",
      "CONTENT:  b'{\\n  \"args\": {\\n    \"key1\": \"value1\", \\n    \"key2\": [\\n      \"value2\", \\n      \"value3\"\\n    ]\\n  }, \\n  \"headers\": {\\n    \"Accept\": \"*/*\", \\n    \"Accept-Encoding\": \"gzip, deflate, br\", \\n    \"Host\": \"httpbin.org\", \\n    \"User-Agent\": \"python-requests/2.26.0\", \\n    \"X-Amzn-Trace-Id\": \"Root=1-6249728a-14386c782b10d67f5fd85264\"\\n  }, \\n  \"origin\": \"149.167.150.181\", \\n  \"url\": \"https://httpbin.org/get?key1=value1&key2=value2&key2=value3\"\\n}\\n'\n",
      "JSON:  <bound method Response.json of <Response [200]>>\n"
     ]
    }
   ],
   "source": [
    "payload = {'key1': 'value1', 'key2': ['value2', 'value3']}\n",
    "r = requests.get('https://httpbin.org/get', params=payload)\n",
    "print('URL: ', r.url)\n",
    "print('ENCODING: ', r.encoding)\n",
    "print('STATUS_CODE: ', r.status_code)\n",
    "print('HEADERS: ', r.headers)\n",
    "print('TEXT: ', r.text)\n",
    "print('CONTENT: ', r.content)\n",
    "print('JSON: ', r.json)"
   ]
  },
  {
   "cell_type": "markdown",
   "id": "af4e8e4b",
   "metadata": {},
   "source": [
    "## POST Requests\n",
    "We can add parameters to a POST request in Dictionary format, but we use data=payload.\n",
    "POST requests are used to upload new records to the server.\n",
    "POST would typically be used to get data from a web form and submit it to the server.\n",
    "\n",
    "The data submitted is put into the payload in a dictionary format. "
   ]
  },
  {
   "cell_type": "code",
   "execution_count": 4,
   "id": "7bbbeab4",
   "metadata": {},
   "outputs": [
    {
     "name": "stdout",
     "output_type": "stream",
     "text": [
      "{\n",
      "  \"args\": {}, \n",
      "  \"data\": \"\", \n",
      "  \"files\": {}, \n",
      "  \"form\": {\n",
      "    \"key1\": \"value1\", \n",
      "    \"key2\": \"value2\"\n",
      "  }, \n",
      "  \"headers\": {\n",
      "    \"Accept\": \"*/*\", \n",
      "    \"Accept-Encoding\": \"gzip, deflate, br\", \n",
      "    \"Content-Length\": \"23\", \n",
      "    \"Content-Type\": \"application/x-www-form-urlencoded\", \n",
      "    \"Host\": \"httpbin.org\", \n",
      "    \"User-Agent\": \"python-requests/2.26.0\", \n",
      "    \"X-Amzn-Trace-Id\": \"Root=1-6249734f-6873cddc0d94fc08578b4b3f\"\n",
      "  }, \n",
      "  \"json\": null, \n",
      "  \"origin\": \"149.167.150.181\", \n",
      "  \"url\": \"https://httpbin.org/post\"\n",
      "}\n",
      "\n"
     ]
    }
   ],
   "source": [
    "r = requests.post('https://httpbin.org/post', data = {'name':'Joe'})\n",
    "\n",
    "payload = {'key1': 'value1', 'key2': 'value2'}\n",
    "r = requests.post(\"https://httpbin.org/post\", data=payload)\n",
    "print(r.text)\n"
   ]
  },
  {
   "cell_type": "markdown",
   "id": "c6505281",
   "metadata": {},
   "source": [
    "## Using Requests to GET Currency Exchange Data\n",
    "Here's a handy endpoint where we can GET foreign currency exchange rates in JSON format, https://api.exchangeratesapi.io/latest\n",
    "\n"
   ]
  },
  {
   "cell_type": "code",
   "execution_count": 7,
   "id": "57be0ace",
   "metadata": {},
   "outputs": [],
   "source": [
    "curr_key='752df5e0cbb22472e2e9c64fda555357'"
   ]
  },
  {
   "cell_type": "code",
   "execution_count": 11,
   "id": "a075de6d",
   "metadata": {},
   "outputs": [],
   "source": [
    "r=requests.get('http://api.exchangeratesapi.io/v1/latest?access_key=752df5e0cbb22472e2e9c64fda555357')"
   ]
  },
  {
   "cell_type": "code",
   "execution_count": 22,
   "id": "d721c88d",
   "metadata": {},
   "outputs": [
    {
     "name": "stdout",
     "output_type": "stream",
     "text": [
      "{\"success\":true,\"timestamp\":1649023085,\"base\":\"EUR\",\"date\":\"2022-04-03\",\"rates\":{\"AED\":4.054671,\"AFN\":97.898269,\"ALL\":121.510967,\"AMD\":533.828856,\"ANG\":1.99314,\"AOA\":490.770218,\"ARS\":122.843825,\"AUD\":1.473502,\"AWG\":1.98704,\"AZN\":1.876929,\"BAM\":1.954398,\"BBD\":2.232964,\"BDT\":95.35793,\"BGN\":1.955038,\"BHD\":0.416595,\"BIF\":2269.097402,\"BMD\":1.103911,\"BND\":1.499501,\"BOB\":7.614221,\"BRL\":5.145123,\"BSD\":1.10589,\"BTC\":2.3609265e-5,\"BTN\":84.00225,\"BWP\":12.689902,\"BYN\":3.601961,\"BYR\":21636.65853,\"BZD\":2.229167,\"CAD\":1.382091,\"CDF\":2218.861745,\"CHF\":1.021871,\"CLF\":0.031489,\"CLP\":868.86577,\"CNY\":7.024294,\"COP\":4172.642649,\"CRC\":724.79893,\"CUC\":1.103911,\"CUP\":29.253645,\"CVE\":110.184267,\"CZK\":24.357804,\"DJF\":196.885739,\"DKK\":7.438597,\"DOP\":60.836424,\"DZD\":158.180099,\"EGP\":20.209845,\"ERN\":16.558673,\"ETB\":56.820467,\"EUR\":1,\"FJD\":2.308059,\"FKP\":0.846655,\"GBP\":0.842102,\"GEL\":3.416632,\"GGP\":0.846655,\"GHS\":8.322102,\"GIP\":0.846655,\"GMD\":59.501496,\"GNF\":9880.2606,\"GTQ\":8.498973,\"GYD\":231.370472,\"HKD\":8.648592,\"HNL\":27.14611,\"HRK\":7.555939,\"HTG\":117.7807,\"HUF\":366.792109,\"IDR\":15864.803889,\"ILS\":3.536381,\"IMP\":0.846655,\"INR\":83.892281,\"IQD\":1614.107322,\"IRR\":46750.636815,\"ISK\":141.973743,\"JEP\":0.846655,\"JMD\":169.542774,\"JOD\":0.782708,\"JPY\":135.285967,\"KES\":127.236072,\"KGS\":89.991388,\"KHR\":4479.018163,\"KMF\":492.28952,\"KPW\":993.520421,\"KRW\":1346.518044,\"KWD\":0.335864,\"KYD\":0.921625,\"KZT\":525.934641,\"LAK\":13013.364933,\"LBP\":1672.174775,\"LKR\":328.95587,\"LRD\":168.511896,\"LSL\":16.194202,\"LTL\":3.259563,\"LVL\":0.667745,\"LYD\":5.134438,\"MAD\":10.735734,\"MDL\":20.260455,\"MGA\":4467.916298,\"MKD\":61.569887,\"MMK\":1966.491325,\"MNT\":3177.909381,\"MOP\":8.92586,\"MRO\":394.09609,\"MUR\":49.32386,\"MVR\":17.066282,\"MWK\":903.487003,\"MXN\":21.944427,\"MYR\":4.648017,\"MZN\":70.462431,\"NAD\":16.194905,\"NGN\":458.91789,\"NIO\":39.580998,\"NOK\":9.662316,\"NPR\":134.403521,\"NZD\":1.595494,\"OMR\":0.425388,\"PAB\":1.10589,\"PEN\":4.06762,\"PGK\":3.897544,\"PHP\":56.884356,\"PKR\":203.986936,\"PLN\":4.64247,\"PYG\":7660.187278,\"QAR\":4.019299,\"RON\":4.945119,\"RSD\":117.699197,\"RUB\":94.660331,\"RWF\":1124.735891,\"SAR\":4.14132,\"SBD\":8.856122,\"SCR\":15.924332,\"SDG\":494.002387,\"SEK\":10.3475,\"SGD\":1.49798,\"SHP\":1.520527,\"SLL\":13131.022907,\"SOS\":644.684178,\"SRD\":22.879645,\"STD\":22848.732006,\"SVC\":9.67691,\"SYP\":2773.02518,\"SZL\":16.146469,\"THB\":36.919762,\"TJS\":14.34379,\"TMT\":3.863689,\"TND\":3.242209,\"TOP\":2.484959,\"TRY\":16.2112,\"TTD\":7.512196,\"TWD\":31.662045,\"TZS\":2566.289645,\"UAH\":32.514076,\"UGX\":3953.703069,\"USD\":1.103911,\"UYU\":45.325789,\"UZS\":12612.578594,\"VEF\":236049566531.6497,\"VND\":25212.226743,\"VUV\":125.974591,\"WST\":2.894506,\"XAF\":655.476723,\"XAG\":0.044816,\"XAU\":0.000573,\"XCD\":2.983375,\"XDR\":0.799914,\"XOF\":655.476723,\"XPF\":119.774775,\"YER\":276.254453,\"ZAR\":16.191876,\"ZMK\":9936.522151,\"ZMW\":19.823575,\"ZWL\":355.45894}}\n"
     ]
    }
   ],
   "source": [
    "#change https to http to get around the http encryption restricted by the access level\n",
    "url = 'http://api.exchangeratesapi.io/latest'\n",
    "r = requests.get(url,params={'access_key':curr_key})\n",
    "print(r.text)\n"
   ]
  },
  {
   "cell_type": "code",
   "execution_count": 17,
   "id": "3c2f649d",
   "metadata": {},
   "outputs": [
    {
     "name": "stdout",
     "output_type": "stream",
     "text": [
      "{\"success\":false,\"error\":{\"code\":105,\"type\":\"base_currency_access_restricted\"}}\n"
     ]
    }
   ],
   "source": [
    "# Put in base currency and date parameters\n",
    "url = 'http://api.exchangeratesapi.io/2018-01-15'\n",
    "r = requests.get(url, params={'base':'USD','access_key':curr_key})\n",
    "print(r.text)"
   ]
  },
  {
   "cell_type": "markdown",
   "id": "0a44dc3c",
   "metadata": {},
   "source": [
    "## Decoding JSON data\n",
    "Now we have the rates in JSON format. We need to convert that to usable data. The JSON library basically has two functions:\n",
    "\n",
    "json.loads( ) converts a text string into Python dict/list objects.\n",
    "json.dumps( ) converts dict/list objects into a string.\n",
    "We need to decode the JSON data into a dictionary, then get the rate for GBP, convert it to a float, and do a conversion."
   ]
  },
  {
   "cell_type": "code",
   "execution_count": 19,
   "id": "24caa116",
   "metadata": {},
   "outputs": [],
   "source": [
    "import json"
   ]
  },
  {
   "cell_type": "code",
   "execution_count": 23,
   "id": "0a67977c",
   "metadata": {},
   "outputs": [
    {
     "data": {
      "text/plain": [
       "'{\"success\":true,\"timestamp\":1649023085,\"base\":\"EUR\",\"date\":\"2022-04-03\",\"rates\":{\"AED\":4.054671,\"AFN\":97.898269,\"ALL\":121.510967,\"AMD\":533.828856,\"ANG\":1.99314,\"AOA\":490.770218,\"ARS\":122.843825,\"AUD\":1.473502,\"AWG\":1.98704,\"AZN\":1.876929,\"BAM\":1.954398,\"BBD\":2.232964,\"BDT\":95.35793,\"BGN\":1.955038,\"BHD\":0.416595,\"BIF\":2269.097402,\"BMD\":1.103911,\"BND\":1.499501,\"BOB\":7.614221,\"BRL\":5.145123,\"BSD\":1.10589,\"BTC\":2.3609265e-5,\"BTN\":84.00225,\"BWP\":12.689902,\"BYN\":3.601961,\"BYR\":21636.65853,\"BZD\":2.229167,\"CAD\":1.382091,\"CDF\":2218.861745,\"CHF\":1.021871,\"CLF\":0.031489,\"CLP\":868.86577,\"CNY\":7.024294,\"COP\":4172.642649,\"CRC\":724.79893,\"CUC\":1.103911,\"CUP\":29.253645,\"CVE\":110.184267,\"CZK\":24.357804,\"DJF\":196.885739,\"DKK\":7.438597,\"DOP\":60.836424,\"DZD\":158.180099,\"EGP\":20.209845,\"ERN\":16.558673,\"ETB\":56.820467,\"EUR\":1,\"FJD\":2.308059,\"FKP\":0.846655,\"GBP\":0.842102,\"GEL\":3.416632,\"GGP\":0.846655,\"GHS\":8.322102,\"GIP\":0.846655,\"GMD\":59.501496,\"GNF\":9880.2606,\"GTQ\":8.498973,\"GYD\":231.370472,\"HKD\":8.648592,\"HNL\":27.14611,\"HRK\":7.555939,\"HTG\":117.7807,\"HUF\":366.792109,\"IDR\":15864.803889,\"ILS\":3.536381,\"IMP\":0.846655,\"INR\":83.892281,\"IQD\":1614.107322,\"IRR\":46750.636815,\"ISK\":141.973743,\"JEP\":0.846655,\"JMD\":169.542774,\"JOD\":0.782708,\"JPY\":135.285967,\"KES\":127.236072,\"KGS\":89.991388,\"KHR\":4479.018163,\"KMF\":492.28952,\"KPW\":993.520421,\"KRW\":1346.518044,\"KWD\":0.335864,\"KYD\":0.921625,\"KZT\":525.934641,\"LAK\":13013.364933,\"LBP\":1672.174775,\"LKR\":328.95587,\"LRD\":168.511896,\"LSL\":16.194202,\"LTL\":3.259563,\"LVL\":0.667745,\"LYD\":5.134438,\"MAD\":10.735734,\"MDL\":20.260455,\"MGA\":4467.916298,\"MKD\":61.569887,\"MMK\":1966.491325,\"MNT\":3177.909381,\"MOP\":8.92586,\"MRO\":394.09609,\"MUR\":49.32386,\"MVR\":17.066282,\"MWK\":903.487003,\"MXN\":21.944427,\"MYR\":4.648017,\"MZN\":70.462431,\"NAD\":16.194905,\"NGN\":458.91789,\"NIO\":39.580998,\"NOK\":9.662316,\"NPR\":134.403521,\"NZD\":1.595494,\"OMR\":0.425388,\"PAB\":1.10589,\"PEN\":4.06762,\"PGK\":3.897544,\"PHP\":56.884356,\"PKR\":203.986936,\"PLN\":4.64247,\"PYG\":7660.187278,\"QAR\":4.019299,\"RON\":4.945119,\"RSD\":117.699197,\"RUB\":94.660331,\"RWF\":1124.735891,\"SAR\":4.14132,\"SBD\":8.856122,\"SCR\":15.924332,\"SDG\":494.002387,\"SEK\":10.3475,\"SGD\":1.49798,\"SHP\":1.520527,\"SLL\":13131.022907,\"SOS\":644.684178,\"SRD\":22.879645,\"STD\":22848.732006,\"SVC\":9.67691,\"SYP\":2773.02518,\"SZL\":16.146469,\"THB\":36.919762,\"TJS\":14.34379,\"TMT\":3.863689,\"TND\":3.242209,\"TOP\":2.484959,\"TRY\":16.2112,\"TTD\":7.512196,\"TWD\":31.662045,\"TZS\":2566.289645,\"UAH\":32.514076,\"UGX\":3953.703069,\"USD\":1.103911,\"UYU\":45.325789,\"UZS\":12612.578594,\"VEF\":236049566531.6497,\"VND\":25212.226743,\"VUV\":125.974591,\"WST\":2.894506,\"XAF\":655.476723,\"XAG\":0.044816,\"XAU\":0.000573,\"XCD\":2.983375,\"XDR\":0.799914,\"XOF\":655.476723,\"XPF\":119.774775,\"YER\":276.254453,\"ZAR\":16.191876,\"ZMK\":9936.522151,\"ZMW\":19.823575,\"ZWL\":355.45894}}'"
      ]
     },
     "execution_count": 23,
     "metadata": {},
     "output_type": "execute_result"
    }
   ],
   "source": [
    "r.text"
   ]
  },
  {
   "cell_type": "code",
   "execution_count": 24,
   "id": "2cb8f84e",
   "metadata": {},
   "outputs": [
    {
     "name": "stdout",
     "output_type": "stream",
     "text": [
      "{'AED': 4.054671, 'AFN': 97.898269, 'ALL': 121.510967, 'AMD': 533.828856, 'ANG': 1.99314, 'AOA': 490.770218, 'ARS': 122.843825, 'AUD': 1.473502, 'AWG': 1.98704, 'AZN': 1.876929, 'BAM': 1.954398, 'BBD': 2.232964, 'BDT': 95.35793, 'BGN': 1.955038, 'BHD': 0.416595, 'BIF': 2269.097402, 'BMD': 1.103911, 'BND': 1.499501, 'BOB': 7.614221, 'BRL': 5.145123, 'BSD': 1.10589, 'BTC': 2.3609265e-05, 'BTN': 84.00225, 'BWP': 12.689902, 'BYN': 3.601961, 'BYR': 21636.65853, 'BZD': 2.229167, 'CAD': 1.382091, 'CDF': 2218.861745, 'CHF': 1.021871, 'CLF': 0.031489, 'CLP': 868.86577, 'CNY': 7.024294, 'COP': 4172.642649, 'CRC': 724.79893, 'CUC': 1.103911, 'CUP': 29.253645, 'CVE': 110.184267, 'CZK': 24.357804, 'DJF': 196.885739, 'DKK': 7.438597, 'DOP': 60.836424, 'DZD': 158.180099, 'EGP': 20.209845, 'ERN': 16.558673, 'ETB': 56.820467, 'EUR': 1, 'FJD': 2.308059, 'FKP': 0.846655, 'GBP': 0.842102, 'GEL': 3.416632, 'GGP': 0.846655, 'GHS': 8.322102, 'GIP': 0.846655, 'GMD': 59.501496, 'GNF': 9880.2606, 'GTQ': 8.498973, 'GYD': 231.370472, 'HKD': 8.648592, 'HNL': 27.14611, 'HRK': 7.555939, 'HTG': 117.7807, 'HUF': 366.792109, 'IDR': 15864.803889, 'ILS': 3.536381, 'IMP': 0.846655, 'INR': 83.892281, 'IQD': 1614.107322, 'IRR': 46750.636815, 'ISK': 141.973743, 'JEP': 0.846655, 'JMD': 169.542774, 'JOD': 0.782708, 'JPY': 135.285967, 'KES': 127.236072, 'KGS': 89.991388, 'KHR': 4479.018163, 'KMF': 492.28952, 'KPW': 993.520421, 'KRW': 1346.518044, 'KWD': 0.335864, 'KYD': 0.921625, 'KZT': 525.934641, 'LAK': 13013.364933, 'LBP': 1672.174775, 'LKR': 328.95587, 'LRD': 168.511896, 'LSL': 16.194202, 'LTL': 3.259563, 'LVL': 0.667745, 'LYD': 5.134438, 'MAD': 10.735734, 'MDL': 20.260455, 'MGA': 4467.916298, 'MKD': 61.569887, 'MMK': 1966.491325, 'MNT': 3177.909381, 'MOP': 8.92586, 'MRO': 394.09609, 'MUR': 49.32386, 'MVR': 17.066282, 'MWK': 903.487003, 'MXN': 21.944427, 'MYR': 4.648017, 'MZN': 70.462431, 'NAD': 16.194905, 'NGN': 458.91789, 'NIO': 39.580998, 'NOK': 9.662316, 'NPR': 134.403521, 'NZD': 1.595494, 'OMR': 0.425388, 'PAB': 1.10589, 'PEN': 4.06762, 'PGK': 3.897544, 'PHP': 56.884356, 'PKR': 203.986936, 'PLN': 4.64247, 'PYG': 7660.187278, 'QAR': 4.019299, 'RON': 4.945119, 'RSD': 117.699197, 'RUB': 94.660331, 'RWF': 1124.735891, 'SAR': 4.14132, 'SBD': 8.856122, 'SCR': 15.924332, 'SDG': 494.002387, 'SEK': 10.3475, 'SGD': 1.49798, 'SHP': 1.520527, 'SLL': 13131.022907, 'SOS': 644.684178, 'SRD': 22.879645, 'STD': 22848.732006, 'SVC': 9.67691, 'SYP': 2773.02518, 'SZL': 16.146469, 'THB': 36.919762, 'TJS': 14.34379, 'TMT': 3.863689, 'TND': 3.242209, 'TOP': 2.484959, 'TRY': 16.2112, 'TTD': 7.512196, 'TWD': 31.662045, 'TZS': 2566.289645, 'UAH': 32.514076, 'UGX': 3953.703069, 'USD': 1.103911, 'UYU': 45.325789, 'UZS': 12612.578594, 'VEF': 236049566531.6497, 'VND': 25212.226743, 'VUV': 125.974591, 'WST': 2.894506, 'XAF': 655.476723, 'XAG': 0.044816, 'XAU': 0.000573, 'XCD': 2.983375, 'XDR': 0.799914, 'XOF': 655.476723, 'XPF': 119.774775, 'YER': 276.254453, 'ZAR': 16.191876, 'ZMK': 9936.522151, 'ZMW': 19.823575, 'ZWL': 355.45894}\n",
      "0.842102\n",
      "200USD =  168.4204 GBP\n"
     ]
    }
   ],
   "source": [
    "rates_json = json.loads(r.text)['rates']\n",
    "print(rates_json)\n",
    "print(rates_json['GBP'])\n",
    "gbp = float(rates_json['GBP'])\n",
    "print('200USD = ', str(gbp * 200), 'GBP')"
   ]
  },
  {
   "cell_type": "markdown",
   "id": "de9d3a53",
   "metadata": {},
   "source": [
    "## GET song data"
   ]
  },
  {
   "cell_type": "code",
   "execution_count": 27,
   "id": "1a991793",
   "metadata": {},
   "outputs": [
    {
     "name": "stdout",
     "output_type": "stream",
     "text": [
      "<ArrayOfArtist xmlns:i=\"http://www.w3.org/2001/XMLSchema-instance\" xmlns=\"https://mintplayer.com/music\"><Artist><ConcurrencyStamp>AAAAAAABzPE=</ConcurrencyStamp><Id>5</Id><Media i:nil=\"true\" /><Tags i:nil=\"true\" /><Text>The Outfield</Text><CurrentMembers i:nil=\"true\" /><Name>The Outfield</Name><PastMembers i:nil=\"true\" /><Songs i:nil=\"true\" /><YearQuit i:nil=\"true\" /><YearStarted>1997</YearStarted></Artist><Artist><ConcurrencyStamp>AAAAAAAB3JI=</ConcurrencyStamp><Id>8</Id><Media i:nil=\"true\" /><Tags i:nil=\"true\" /><Text>Dario G</Text><CurrentMembers i:nil=\"true\" /><Name>Dario G</Name><PastMembers i:nil=\"true\" /><Songs i:nil=\"true\" /><YearQuit i:nil=\"true\" /><YearStarted>1997</YearStarted></A\n"
     ]
    }
   ],
   "source": [
    "url = 'https://musicdemons.com/api/v1/artist'\n",
    "r = requests.get(url)\n",
    "print(r.text[:700])"
   ]
  },
  {
   "cell_type": "code",
   "execution_count": 44,
   "id": "7e8500d3",
   "metadata": {},
   "outputs": [
    {
     "data": {
      "text/plain": [
       "'<ArrayOfArtist xmlns:i=\"http://www.w3.org/2001/XMLSchema-instance\" xmlns=\"https://mintplayer.com/music\"><Artist><ConcurrencyStamp>AAAAAAABzPE=</ConcurrencyStamp><Id>5</Id><Media i:nil=\"true\" /><Tags i:nil=\"true\" /><Text>The Outfield</Text><CurrentMembers i:nil=\"true\" /><Name>The Outfield</Name><PastMembers i:nil=\"true\" /><Songs i:nil=\"true\" /><YearQuit i:nil=\"true\" /><YearStarted>1997</YearStarted></Artist><Artist><ConcurrencyStamp>AAAAAAAB3JI=</ConcurrencyStamp><Id>8</Id><Media i:nil=\"true\" /><Tags i:nil=\"true\" /><Text>Dario G</Text><CurrentMembers i:nil=\"true\" /><Name>Dario G</Name><PastMembers i:nil=\"true\" /><Songs i:nil=\"true\" /><YearQuit i:nil=\"true\" /><YearStarted>1997</YearStarted></Artist><Artist><ConcurrencyStamp>AAAAAAAAB9M=</ConcurrencyStamp><Id>10</Id><Media i:nil=\"true\" /><Tags i:nil=\"true\" /><Text>Beatles</Text><CurrentMembers i:nil=\"true\" /><Name>Beatles</Name><PastMembers i:nil=\"true\" /><Songs i:nil=\"true\" /><YearQuit i:nil=\"true\" /><YearStarted i:nil=\"true\" /></Artist><Artist><ConcurrencyStamp>AAAAAAAAB9Q=</ConcurrencyStamp><Id>11</Id><Media i:nil=\"true\" /><Tags i:nil=\"true\" /><Text>Pharrell Williams</Text><CurrentMembers i:nil=\"true\" /><Name>Pharrell Williams</Name><PastMembers i:nil=\"true\" /><Songs i:nil=\"true\" /><YearQuit i:nil=\"true\" /><YearStarted i:nil=\"true\" /></Artist><Artist><ConcurrencyStamp>AAAAAAAACFc=</ConcurrencyStamp><Id>13</Id><Media i:nil=\"true\" /><Tags i:nil=\"true\" /><Text>Mattafix</Text><CurrentMembers i:nil=\"true\" /><Name>Mattafix</Name><PastMembers i:nil=\"true\" /><Songs i:nil=\"true\" /><YearQuit>2010</YearQuit><YearStarted>2005</YearStarted></Artist><Artist><ConcurrencyStamp>AAAAAAAAB9Y=</ConcurrencyStamp><Id>15</Id><Media i:nil=\"true\" /><Tags i:nil=\"true\" /><Text>BABYLON ZOO</Text><CurrentMembers i:nil=\"true\" /><Name>BABYLON ZOO</Name><PastMembers i:nil=\"true\" /><Songs i:nil=\"true\" /><YearQuit i:nil=\"true\" /><YearStarted i:nil=\"true\" /></Artist><Artist><ConcurrencyStamp>AAAAAAAAB9c=</ConcurrencyStamp><Id>17</Id><Media i:nil=\"true\" /><Tags i:nil=\"true\" /><Text>Jason Derulo</Text><CurrentMembers i:nil=\"true\" /><Name>Jason Derulo</Name><PastMembers i:nil=\"true\" /><Songs i:nil=\"true\" /><YearQuit i:nil=\"true\" /><YearStarted>2006</YearStarted></Artist><Artist><ConcurrencyStamp>AAAAAAAAB9k=</ConcurrencyStamp><Id>20</Id><Media i:nil=\"true\" /><Tags i:nil=\"true\" /><Text>Bloc Party</Text><CurrentMembers i:nil=\"true\" /><Name>Bloc Party</Name><PastMembers i:nil=\"true\" /><Songs i:nil=\"true\" /><YearQuit i:nil=\"true\" /><YearStarted>1999</YearStarted></Artist><Artist><ConcurrencyStamp>AAAAAAAAB9s=</ConcurrencyStamp><Id>22</Id><Media i:nil=\"true\" /><Tags i:nil=\"true\" /><Text>Coldplay</Text><CurrentMembers i:nil=\"true\" /><Name>Coldplay</Name><PastMembers i:nil=\"true\" /><Songs i:nil=\"true\" /><YearQuit i:nil=\"true\" /><YearStarted>1996</YearStarted></Artist><Artist><ConcurrencyStamp>AAAAAAAAB9w=</ConcurrencyStamp><Id>24</Id><Media i:nil=\"true\" /><Tags i:nil=\"true\" /><Text>Earth &amp; Fire</Text><CurrentMembers i:nil=\"true\" /><Name>Earth &amp; Fire</Name><PastMembers i:nil=\"true\" /><Songs i:nil=\"true\" /><YearQuit>1990</YearQuit><YearStarted>1968</YearStarted></Artist><Artist><ConcurrencyStamp>AAAAAAAAB90=</ConcurrencyStamp><Id>26</Id><Media i:nil=\"true\" /><Tags i:nil=\"true\" /><Text>Won Ton Ton</Text><CurrentMembers i:nil=\"true\" /><Name>Won Ton Ton</Name><PastMembers i:nil=\"true\" /><Songs i:nil=\"true\" /><YearQuit>1992</YearQuit><YearStarted>1987</YearStarted></Artist><Artist><ConcurrencyStamp>AAAAAAAAB98=</ConcurrencyStamp><Id>28</Id><Media i:nil=\"true\" /><Tags i:nil=\"true\" /><Text>Marshmello</Text><CurrentMembers i:nil=\"true\" /><Name>Marshmello</Name><PastMembers i:nil=\"true\" /><Songs i:nil=\"true\" /><YearQuit i:nil=\"true\" /><YearStarted>2015</YearStarted></Artist><Artist><ConcurrencyStamp>AAAAAAAAB+A=</ConcurrencyStamp><Id>29</Id><Media i:nil=\"true\" /><Tags i:nil=\"true\" /><Text>CHVRCHES</Text><CurrentMembers i:nil=\"true\" /><Name>CHVRCHES</Name><PastMembers i:nil=\"true\" /><Songs i:nil=\"true\" /><YearQuit i:nil=\"true\" /><YearStarted>2011</YearStarted></Artist><Artist><ConcurrencyStamp>AAAAAAAAB+E=</ConcurrencyStamp><Id>31</Id><Media i:nil=\"true\" /><Tags i:nil=\"true\" /><Text>Blondie</Text><CurrentMembers i:nil=\"true\" /><Name>Blondie</Name><PastMembers i:nil=\"true\" /><Songs i:nil=\"true\" /><YearQuit i:nil=\"true\" /><YearStarted i:nil=\"true\" /></Artist><Artist><ConcurrencyStamp>AAAAAAAAB+I=</ConcurrencyStamp><Id>33</Id><Media i:nil=\"true\" /><Tags i:nil=\"true\" /><Text>The Shins</Text><CurrentMembers i:nil=\"true\" /><Name>The Shins</Name><PastMembers i:nil=\"true\" /><Songs i:nil=\"true\" /><YearQuit i:nil=\"true\" /><YearStarted i:nil=\"true\" /></Artist><Artist><ConcurrencyStamp>AAAAAAAAB+M=</ConcurrencyStamp><Id>35</Id><Media i:nil=\"true\" /><Tags i:nil=\"true\" /><Text>LeAnn Rimes</Text><CurrentMembers i:nil=\"true\" /><Name>LeAnn Rimes</Name><PastMembers i:nil=\"true\" /><Songs i:nil=\"true\" /><YearQuit i:nil=\"true\" /><YearStarted>1991</YearStarted></Artist><Artist><ConcurrencyStamp>AAAAAAAAB+U=</ConcurrencyStamp><Id>37</Id><Media i:nil=\"true\" /><Tags i:nil=\"true\" /><Text>Bastille</Text><CurrentMembers i:nil=\"true\" /><Name>Bastille</Name><PastMembers i:nil=\"true\" /><Songs i:nil=\"true\" /><YearQuit i:nil=\"true\" /><YearStarted i:nil=\"true\" /></Artist><Artist><ConcurrencyStamp>AAAAAAAAB+Y=</ConcurrencyStamp><Id>38</Id><Media i:nil=\"true\" /><Tags i:nil=\"true\" /><Text>Tones And I</Text><CurrentMembers i:nil=\"true\" /><Name>Tones And I</Name><PastMembers i:nil=\"true\" /><Songs i:nil=\"true\" /><YearQuit i:nil=\"true\" /><YearStarted i:nil=\"true\" /></Artist><Artist><ConcurrencyStamp>AAAAAAAACGA=</ConcurrencyStamp><Id>40</Id><Media i:nil=\"true\" /><Tags i:nil=\"true\" /><Text>Logic</Text><CurrentMembers i:nil=\"true\" /><Name>Logic</Name><PastMembers i:nil=\"true\" /><Songs i:nil=\"true\" /><YearQuit i:nil=\"true\" /><YearStarted>2009</YearStarted></Artist><Artist><ConcurrencyStamp>AAAAAAAAB+g=</ConcurrencyStamp><Id>41</Id><Media i:nil=\"true\" /><Tags i:nil=\"true\" /><Text>Alessia Cara</Text><CurrentMembers i:nil=\"true\" /><Name>Alessia Cara</Name><PastMembers i:nil=\"true\" /><Songs i:nil=\"true\" /><YearQuit i:nil=\"true\" /><YearStarted i:nil=\"true\" /></Artist><Artist><ConcurrencyStamp>AAAAAAAAB+k=</ConcurrencyStamp><Id>42</Id><Media i:nil=\"true\" /><Tags i:nil=\"true\" /><Text>Khalid</Text><CurrentMembers i:nil=\"true\" /><Name>Khalid</Name><PastMembers i:nil=\"true\" /><Songs i:nil=\"true\" /><YearQuit i:nil=\"true\" /><YearStarted i:nil=\"true\" /></Artist><Artist><ConcurrencyStamp>AAAAAAAACGI=</ConcurrencyStamp><Id>44</Id><Media i:nil=\"true\" /><Tags i:nil=\"true\" /><Text>Avicii</Text><CurrentMembers i:nil=\"true\" /><Name>Avicii</Name><PastMembers i:nil=\"true\" /><Songs i:nil=\"true\" /><YearQuit>2018</YearQuit><YearStarted>2006</YearStarted></Artist><Artist><ConcurrencyStamp>AAAAAAAAlHU=</ConcurrencyStamp><Id>45</Id><Media i:nil=\"true\" /><Tags i:nil=\"true\" /><Text>Aloe Blaccc</Text><CurrentMembers i:nil=\"true\" /><Name>Aloe Blaccc</Name><PastMembers i:nil=\"true\" /><Songs i:nil=\"true\" /><YearQuit i:nil=\"true\" /><YearStarted>1995</YearStarted></Artist><Artist><ConcurrencyStamp>AAAAAAAAB+s=</ConcurrencyStamp><Id>48</Id><Media i:nil=\"true\" /><Tags i:nil=\"true\" /><Text>Nelly</Text><CurrentMembers i:nil=\"true\" /><Name>Nelly</Name><PastMembers i:nil=\"true\" /><Songs i:nil=\"true\" /><YearQuit i:nil=\"true\" /><YearStarted>1993</YearStarted></Artist><Artist><ConcurrencyStamp>AAAAAAAAB+w=</ConcurrencyStamp><Id>50</Id><Media i:nil=\"true\" /><Tags i:nil=\"true\" /><Text>Taio Cruz</Text><CurrentMembers i:nil=\"true\" /><Name>Taio Cruz</Name><PastMembers i:nil=\"true\" /><Songs i:nil=\"true\" /><YearQuit i:nil=\"true\" /><YearStarted>2003</YearStarted></Artist><Artist><ConcurrencyStamp>AAAAAAABIRU=</ConcurrencyStamp><Id>53</Id><Media i:nil=\"true\" /><Tags i:nil=\"true\" /><Text>Oasis</Text><CurrentMembers i:nil=\"true\" /><Name>Oasis</Name><PastMembers i:nil=\"true\" /><Songs i:nil=\"true\" /><YearQuit>2009</YearQuit><YearStarted>1991</YearStarted></Artist><Artist><ConcurrencyStamp>AAAAAAAAB+8=</ConcurrencyStamp><Id>55</Id><Media i:nil=\"true\" /><Tags i:nil=\"true\" /><Text>Pixies</Text><CurrentMembers i:nil=\"true\" /><Name>Pixies</Name><PastMembers i:nil=\"true\" /><Songs i:nil=\"true\" /><YearQuit i:nil=\"true\" /><YearStarted>1986</YearStarted></Artist><Artist><ConcurrencyStamp>AAAAAAAAB/A=</ConcurrencyStamp><Id>58</Id><Media i:nil=\"true\" /><Tags i:nil=\"true\" /><Text>Little Mix</Text><CurrentMembers i:nil=\"true\" /><Name>Little Mix</Name><PastMembers i:nil=\"true\" /><Songs i:nil=\"true\" /><YearQuit i:nil=\"true\" /><YearStarted>2011</YearStarted></Artist><Artist><ConcurrencyStamp>AAAAAAAAB/M=</ConcurrencyStamp><Id>64</Id><Media i:nil=\"true\" /><Tags i:nil=\"true\" /><Text>Mika</Text><CurrentMembers i:nil=\"true\" /><Name>Mika</Name><PastMembers i:nil=\"true\" /><Songs i:nil=\"true\" /><YearQuit i:nil=\"true\" /><YearStarted>2006</YearStarted></Artist><Artist><ConcurrencyStamp>AAAAAAAAB/U=</ConcurrencyStamp><Id>66</Id><Media i:nil=\"true\" /><Tags i:nil=\"true\" /><Text>Snow Patrol</Text><CurrentMembers i:nil=\"true\" /><Name>Snow Patrol</Name><PastMembers i:nil=\"true\" /><Songs i:nil=\"true\" /><YearQuit i:nil=\"true\" /><YearStarted>1994</YearStarted></Artist><Artist><ConcurrencyStamp>AAAAAAAAB/Y=</ConcurrencyStamp><Id>68</Id><Media i:nil=\"true\" /><Tags i:nil=\"true\" /><Text>Kelly Clarkson</Text><CurrentMembers i:nil=\"true\" /><Name>Kelly Clarkson</Name><PastMembers i:nil=\"true\" /><Songs i:nil=\"true\" /><YearQuit i:nil=\"true\" /><YearStarted>2002</YearStarted></Artist><Artist><ConcurrencyStamp>AAAAAAAAB/g=</ConcurrencyStamp><Id>70</Id><Media i:nil=\"true\" /><Tags i:nil=\"true\" /><Text>R.E.M.</Text><CurrentMembers i:nil=\"true\" /><Name>R.E.M.</Name><PastMembers i:nil=\"true\" /><Songs i:nil=\"true\" /><YearQuit>2011</YearQuit><YearStarted>1980</YearStarted></Artist><Artist><ConcurrencyStamp>AAAAAAAACGw=</ConcurrencyStamp><Id>72</Id><Media i:nil=\"true\" /><Tags i:nil=\"true\" /><Text>Urban Trad</Text><CurrentMembers i:nil=\"true\" /><Name>Urban Trad</Name><PastMembers i:nil=\"true\" /><Songs i:nil=\"true\" /><YearQuit i:nil=\"true\" /><YearStarted i:nil=\"true\" /></Artist><Artist><ConcurrencyStamp>AAAAAAAAB/o=</ConcurrencyStamp><Id>74</Id><Media i:nil=\"true\" /><Tags i:nil=\"true\" /><Text>Michelle Branch</Text><CurrentMembers i:nil=\"true\" /><Name>Michelle Branch</Name><PastMembers i:nil=\"true\" /><Songs i:nil=\"true\" /><YearQuit i:nil=\"true\" /><YearStarted>1999</YearStarted></Artist><Artist><ConcurrencyStamp>AAAAAAAAhNE=</ConcurrencyStamp><Id>77</Id><Media i:nil=\"true\" /><Tags i:nil=\"true\" /><Text>Thee Jamie Starr Scenario</Text><CurrentMembers i:nil=\"true\" /><Name>Thee Jamie Starr Scenario</Name><PastMembers i:nil=\"true\" /><Songs i:nil=\"true\" /><YearQuit i:nil=\"true\" /><YearStarted i:nil=\"true\" /></Artist><Artist><ConcurrencyStamp>AAAAAAAAB/0=</ConcurrencyStamp><Id>79</Id><Media i:nil=\"true\" /><Tags i:nil=\"true\" /><Text>IBE</Text><CurrentMembers i:nil=\"true\" /><Name>IBE</Name><PastMembers i:nil=\"true\" /><Songs i:nil=\"true\" /><YearQuit i:nil=\"true\" /><YearStarted>2019</YearStarted></Artist><Artist><ConcurrencyStamp>AAAAAAAAB/4=</ConcurrencyStamp><Id>81</Id><Media i:nil=\"true\" /><Tags i:nil=\"true\" /><Text>M. Pokora</Text><CurrentMembers i:nil=\"true\" /><Name>M. Pokora</Name><PastMembers i:nil=\"true\" /><Songs i:nil=\"true\" /><YearQuit i:nil=\"true\" /><YearStarted>2001</YearStarted></Artist><Artist><ConcurrencyStamp>AAAAAAAAB/8=</ConcurrencyStamp><Id>83</Id><Media i:nil=\"true\" /><Tags i:nil=\"true\" /><Text>Jean-Jacques Goldman</Text><CurrentMembers i:nil=\"true\" /><Name>Jean-Jacques Goldman</Name><PastMembers i:nil=\"true\" /><Songs i:nil=\"true\" /><YearQuit i:nil=\"true\" /><YearStarted>1975</YearStarted></Artist><Artist><ConcurrencyStamp>AAAAAAAACAE=</ConcurrencyStamp><Id>85</Id><Media i:nil=\"true\" /><Tags i:nil=\"true\" /><Text>Mathieu Koss</Text><CurrentMembers i:nil=\"true\" /><Name>Mathieu Koss</Name><PastMembers i:nil=\"true\" /><Songs i:nil=\"true\" /><YearQuit i:nil=\"true\" /><YearStarted i:nil=\"true\" /></Artist><Artist><ConcurrencyStamp>AAAAAAAACHQ=</ConcurrencyStamp><Id>88</Id><Media i:nil=\"true\" /><Tags i:nil=\"true\" /><Text>Yusuf Islam</Text><CurrentMembers i:nil=\"true\" /><Name>Yusuf Islam</Name><PastMembers i:nil=\"true\" /><Songs i:nil=\"true\" /><YearQuit i:nil=\"true\" /><YearStarted i:nil=\"true\" /></Artist><Artist><ConcurrencyStamp>AAAAAAAACAM=</ConcurrencyStamp><Id>90</Id><Media i:nil=\"true\" /><Tags i:nil=\"true\" /><Text>The Corrs</Text><CurrentMembers i:nil=\"true\" /><Name>The Corrs</Name><PastMembers i:nil=\"true\" /><Songs i:nil=\"true\" /><YearQuit i:nil=\"true\" /><YearStarted>1990</YearStarted></Artist><Artist><ConcurrencyStamp>AAAAAAAACAk=</ConcurrencyStamp><Id>99</Id><Media i:nil=\"true\" /><Tags i:nil=\"true\" /><Text>Lil Nas X</Text><CurrentMembers i:nil=\"true\" /><Name>Lil Nas X</Name><PastMembers i:nil=\"true\" /><Songs i:nil=\"true\" /><YearQuit i:nil=\"true\" /><YearStarted>2018</YearStarted></Artist><Artist><ConcurrencyStamp>AAAAAAAACAs=</ConcurrencyStamp><Id>101</Id><Media i:nil=\"true\" /><Tags i:nil=\"true\" /><Text>Martika</Text><CurrentMembers i:nil=\"true\" /><Name>Martika</Name><PastMembers i:nil=\"true\" /><Songs i:nil=\"true\" /><YearQuit i:nil=\"true\" /><YearStarted>1982</YearStarted></Artist><Artist><ConcurrencyStamp>AAAAAAAACA0=</ConcurrencyStamp><Id>103</Id><Media i:nil=\"true\" /><Tags i:nil=\"true\" /><Text>Twenty One Pilots</Text><CurrentMembers i:nil=\"true\" /><Name>Twenty One Pilots</Name><PastMembers i:nil=\"true\" /><Songs i:nil=\"true\" /><YearQuit i:nil=\"true\" /><YearStarted>2009</YearStarted></Artist><Artist><ConcurrencyStamp>AAAAAAAACA8=</ConcurrencyStamp><Id>105</Id><Media i:nil=\"true\" /><Tags i:nil=\"true\" /><Text>KT Tunstall</Text><CurrentMembers i:nil=\"true\" /><Name>KT Tunstall</Name><PastMembers i:nil=\"true\" /><Songs i:nil=\"true\" /><YearQuit i:nil=\"true\" /><YearStarted>2000</YearStarted></Artist><Artist><ConcurrencyStamp>AAAAAAAACBA=</ConcurrencyStamp><Id>107</Id><Media i:nil=\"true\" /><Tags i:nil=\"true\" /><Text>Nea &amp; Nio Gracia</Text><CurrentMembers i:nil=\"true\" /><Name>Nea &amp; Nio Gracia</Name><PastMembers i:nil=\"true\" /><Songs i:nil=\"true\" /><YearQuit i:nil=\"true\" /><YearStarted i:nil=\"true\" /></Artist><Artist><ConcurrencyStamp>AAAAAAAACBI=</ConcurrencyStamp><Id>109</Id><Media i:nil=\"true\" /><Tags i:nil=\"true\" /><Text>Tiffany</Text><CurrentMembers i:nil=\"true\" /><Name>Tiffany</Name><PastMembers i:nil=\"true\" /><Songs i:nil=\"true\" /><YearQuit i:nil=\"true\" /><YearStarted>2007</YearStarted></Artist><Artist><ConcurrencyStamp>AAAAAAAACBM=</ConcurrencyStamp><Id>111</Id><Media i:nil=\"true\" /><Tags i:nil=\"true\" /><Text>Kanye West</Text><CurrentMembers i:nil=\"true\" /><Name>Kanye West</Name><PastMembers i:nil=\"true\" /><Songs i:nil=\"true\" /><YearQuit i:nil=\"true\" /><YearStarted>1996</YearStarted></Artist><Artist><ConcurrencyStamp>AAAAAAAACBU=</ConcurrencyStamp><Id>114</Id><Media i:nil=\"true\" /><Tags i:nil=\"true\" /><Text>Katy Perry</Text><CurrentMembers i:nil=\"true\" /><Name>Katy Perry</Name><PastMembers i:nil=\"true\" /><Songs i:nil=\"true\" /><YearQuit i:nil=\"true\" /><YearStarted i:nil=\"true\" /></Artist><Artist><ConcurrencyStamp>AAAAAAAAVfI=</ConcurrencyStamp><Id>116</Id><Media i:nil=\"true\" /><Tags i:nil=\"true\" /><Text>Scouting For Girls</Text><CurrentMembers i:nil=\"true\" /><Name>Scouting For Girls</Name><PastMembers i:nil=\"true\" /><Songs i:nil=\"true\" /><YearQuit i:nil=\"true\" /><YearStarted>2005</YearStarted></Artist><Artist><ConcurrencyStamp>AAAAAAAACBk=</ConcurrencyStamp><Id>118</Id><Media i:nil=\"true\" /><Tags i:nil=\"true\" /><Text>Jessica Simpson</Text><CurrentMembers i:nil=\"true\" /><Name>Jessica Simpson</Name><PastMembers i:nil=\"true\" /><Songs i:nil=\"true\" /><YearQuit i:nil=\"true\" /><YearStarted>1993</YearStarted></Artist><Artist><ConcurrencyStamp>AAAAAAAACBs=</ConcurrencyStamp><Id>120</Id><Media i:nil=\"true\" /><Tags i:nil=\"true\" /><Text>Bob Marley</Text><CurrentMembers i:nil=\"true\" /><Name>Bob Marley</Name><PastMembers i:nil=\"true\" /><Songs i:nil=\"true\" /><YearQuit i:nil=\"true\" /><YearStarted i:nil=\"true\" /></Artist><Artist><ConcurrencyStamp>AAAAAAAACHk=</ConcurrencyStamp><Id>122</Id><Media i:nil=\"true\" /><Tags i:nil=\"true\" /><Text>blink-182</Text><CurrentMembers i:nil=\"true\" /><Name>blink-182</Name><PastMembers i:nil=\"true\" /><Songs i:nil=\"true\" /><YearQuit i:nil=\"true\" /><YearStarted>1992</YearStarted></Artist><Artist><ConcurrencyStamp>AAAAAAAACBw=</ConcurrencyStamp><Id>124</Id><Media i:nil=\"true\" /><Tags i:nil=\"true\" /><Text>Versión De Lujo</Text><CurrentMembers i:nil=\"true\" /><Name>Versión De Lujo</Name><PastMembers i:nil=\"true\" /><Songs i:nil=\"true\" /><YearQuit i:nil=\"true\" /><YearStarted i:nil=\"true\" /></Artist><Artist><ConcurrencyStamp>AAAAAAAACB0=</ConcurrencyStamp><Id>126</Id><Media i:nil=\"true\" /><Tags i:nil=\"true\" /><Text>The Bet</Text><CurrentMembers i:nil=\"true\" /><Name>The Bet</Name><PastMembers i:nil=\"true\" /><Songs i:nil=\"true\" /><YearQuit i:nil=\"true\" /><YearStarted i:nil=\"true\" /></Artist><Artist><ConcurrencyStamp>AAAAAAAACB4=</ConcurrencyStamp><Id>128</Id><Media i:nil=\"true\" /><Tags i:nil=\"true\" /><Text>Ketnetband</Text><CurrentMembers i:nil=\"true\" /><Name>Ketnetband</Name><PastMembers i:nil=\"true\" /><Songs i:nil=\"true\" /><YearQuit i:nil=\"true\" /><YearStarted i:nil=\"true\" /></Artist><Artist><ConcurrencyStamp>AAAAAAAACCA=</ConcurrencyStamp><Id>131</Id><Media i:nil=\"true\" /><Tags i:nil=\"true\" /><Text>Marvin Gaye</Text><CurrentMembers i:nil=\"true\" /><Name>Marvin Gaye</Name><PastMembers i:nil=\"true\" /><Songs i:nil=\"true\" /><YearQuit>1984</YearQuit><YearStarted>1957</YearStarted></Artist><Artist><ConcurrencyStamp>AAAAAAAACCI=</ConcurrencyStamp><Id>133</Id><Media i:nil=\"true\" /><Tags i:nil=\"true\" /><Text>Sam Hunt</Text><CurrentMembers i:nil=\"true\" /><Name>Sam Hunt</Name><PastMembers i:nil=\"true\" /><Songs i:nil=\"true\" /><YearQuit i:nil=\"true\" /><YearStarted>2008</YearStarted></Artist><Artist><ConcurrencyStamp>AAAAAAAACH8=</ConcurrencyStamp><Id>135</Id><Media i:nil=\"true\" /><Tags i:nil=\"true\" /><Text>The Scabs</Text><CurrentMembers i:nil=\"true\" /><Name>The Scabs</Name><PastMembers i:nil=\"true\" /><Songs i:nil=\"true\" /><YearQuit i:nil=\"true\" /><YearStarted>1981</YearStarted></Artist><Artist><ConcurrencyStamp>AAAAAAAACCM=</ConcurrencyStamp><Id>137</Id><Media i:nil=\"true\" /><Tags i:nil=\"true\" /><Text>Brahim</Text><CurrentMembers i:nil=\"true\" /><Name>Brahim</Name><PastMembers i:nil=\"true\" /><Songs i:nil=\"true\" /><YearQuit i:nil=\"true\" /><YearStarted>2003</YearStarted></Artist><Artist><ConcurrencyStamp>AAAAAAAACCQ=</ConcurrencyStamp><Id>139</Id><Media i:nil=\"true\" /><Tags i:nil=\"true\" /><Text>Cookie Dingler</Text><CurrentMembers i:nil=\"true\" /><Name>Cookie Dingler</Name><PastMembers i:nil=\"true\" /><Songs i:nil=\"true\" /><YearQuit i:nil=\"true\" /><YearStarted i:nil=\"true\" /></Artist><Artist><ConcurrencyStamp>AAAAAAAACCU=</ConcurrencyStamp><Id>141</Id><Media i:nil=\"true\" /><Tags i:nil=\"true\" /><Text>Jermaine Jackson</Text><CurrentMembers i:nil=\"true\" /><Name>Jermaine Jackson</Name><PastMembers i:nil=\"true\" /><Songs i:nil=\"true\" /><YearQuit i:nil=\"true\" /><YearStarted>1965</YearStarted></Artist><Artist><ConcurrencyStamp>AAAAAAAACCY=</ConcurrencyStamp><Id>142</Id><Media i:nil=\"true\" /><Tags i:nil=\"true\" /><Text>Pia Zadora</Text><CurrentMembers i:nil=\"true\" /><Name>Pia Zadora</Name><PastMembers i:nil=\"true\" /><Songs i:nil=\"true\" /><YearQuit i:nil=\"true\" /><YearStarted>1964</YearStarted></Artist><Artist><ConcurrencyStamp>AAAAAAAACCc=</ConcurrencyStamp><Id>144</Id><Media i:nil=\"true\" /><Tags i:nil=\"true\" /><Text>Kim Wilde</Text><CurrentMembers i:nil=\"true\" /><Name>Kim Wilde</Name><PastMembers i:nil=\"true\" /><Songs i:nil=\"true\" /><YearQuit i:nil=\"true\" /><YearStarted>1980</YearStarted></Artist><Artist><ConcurrencyStamp>AAAAAAAAdTE=</ConcurrencyStamp><Id>146</Id><Media i:nil=\"true\" /><Tags i:nil=\"true\" /><Text>24kGoldn</Text><CurrentMembers i:nil=\"true\" /><Name>24kGoldn</Name><PastMembers i:nil=\"true\" /><Songs i:nil=\"true\" /><YearQuit i:nil=\"true\" /><YearStarted>2016</YearStarted></Artist><Artist><ConcurrencyStamp>AAAAAAAACCk=</ConcurrencyStamp><Id>147</Id><Media i:nil=\"true\" /><Tags i:nil=\"true\" /><Text>Iann Dior</Text><CurrentMembers i:nil=\"true\" /><Name>Iann Dior</Name><PastMembers i:nil=\"true\" /><Songs i:nil=\"true\" /><YearQuit i:nil=\"true\" /><YearStarted>2017</YearStarted></Artist><Artist><ConcurrencyStamp>AAAAAAAACCo=</ConcurrencyStamp><Id>149</Id><Media i:nil=\"true\" /><Tags i:nil=\"true\" /><Text>Journey</Text><CurrentMembers i:nil=\"true\" /><Name>Journey</Name><PastMembers i:nil=\"true\" /><Songs i:nil=\"true\" /><YearQuit i:nil=\"true\" /><YearStarted>1973</YearStarted></Artist><Artist><ConcurrencyStamp>AAAAAAAACCs=</ConcurrencyStamp><Id>151</Id><Media i:nil=\"true\" /><Tags i:nil=\"true\" /><Text>Fountains of Wayne</Text><CurrentMembers i:nil=\"true\" /><Name>Fountains of Wayne</Name><PastMembers i:nil=\"true\" /><Songs i:nil=\"true\" /><YearQuit>2019</YearQuit><YearStarted>1995</YearStarted></Artist><Artist><ConcurrencyStamp>AAAAAAAACC0=</ConcurrencyStamp><Id>153</Id><Media i:nil=\"true\" /><Tags i:nil=\"true\" /><Text>Metallica</Text><CurrentMembers i:nil=\"true\" /><Name>Metallica</Name><PastMembers i:nil=\"true\" /><Songs i:nil=\"true\" /><YearQuit i:nil=\"true\" /><YearStarted>1981</YearStarted></Artist><Artist><ConcurrencyStamp>AAAAAAAACC8=</ConcurrencyStamp><Id>155</Id><Media i:nil=\"true\" /><Tags i:nil=\"true\" /><Text>Safri Duo</Text><CurrentMembers i:nil=\"true\" /><Name>Safri Duo</Name><PastMembers i:nil=\"true\" /><Songs i:nil=\"true\" /><YearQuit i:nil=\"true\" /><YearStarted>1990</YearStarted></Artist><Artist><ConcurrencyStamp>AAAAAAAACDE=</ConcurrencyStamp><Id>157</Id><Media i:nil=\"true\" /><Tags i:nil=\"true\" /><Text>Jarico</Text><CurrentMembers i:nil=\"true\" /><Name>Jarico</Name><PastMembers i:nil=\"true\" /><Songs i:nil=\"true\" /><YearQuit i:nil=\"true\" /><YearStarted i:nil=\"true\" /></Artist><Artist><ConcurrencyStamp>AAAAAAAACDI=</ConcurrencyStamp><Id>159</Id><Media i:nil=\"true\" /><Tags i:nil=\"true\" /><Text>Jonas Blue</Text><CurrentMembers i:nil=\"true\" /><Name>Jonas Blue</Name><PastMembers i:nil=\"true\" /><Songs i:nil=\"true\" /><YearQuit i:nil=\"true\" /><YearStarted>2015</YearStarted></Artist><Artist><ConcurrencyStamp>AAAAAAAACDM=</ConcurrencyStamp><Id>160</Id><Media i:nil=\"true\" /><Tags i:nil=\"true\" /><Text>Jack &amp; Jack</Text><CurrentMembers i:nil=\"true\" /><Name>Jack &amp; Jack</Name><PastMembers i:nil=\"true\" /><Songs i:nil=\"true\" /><YearQuit>2020</YearQuit><YearStarted>2013</YearStarted></Artist><Artist><ConcurrencyStamp>AAAAAAAACDQ=</ConcurrencyStamp><Id>162</Id><Media i:nil=\"true\" /><Tags i:nil=\"true\" /><Text>ZAYN</Text><CurrentMembers i:nil=\"true\" /><Name>ZAYN</Name><PastMembers i:nil=\"true\" /><Songs i:nil=\"true\" /><YearQuit i:nil=\"true\" /><YearStarted>2010</YearStarted></Artist><Artist><ConcurrencyStamp>AAAAAAAACDU=</ConcurrencyStamp><Id>163</Id><Media i:nil=\"true\" /><Tags i:nil=\"true\" /><Text>Sia</Text><CurrentMembers i:nil=\"true\" /><Name>Sia</Name><PastMembers i:nil=\"true\" /><Songs i:nil=\"true\" /><YearQuit i:nil=\"true\" /><YearStarted>1990</YearStarted></Artist><Artist><ConcurrencyStamp>AAAAAAAACDY=</ConcurrencyStamp><Id>165</Id><Media i:nil=\"true\" /><Tags i:nil=\"true\" /><Text>Gorki</Text><CurrentMembers i:nil=\"true\" /><Name>Gorki</Name><PastMembers i:nil=\"true\" /><Songs i:nil=\"true\" /><YearQuit>2014</YearQuit><YearStarted>1989</YearStarted></Artist><Artist><ConcurrencyStamp>AAAAAAAACDc=</ConcurrencyStamp><Id>167</Id><Media i:nil=\"true\" /><Tags i:nil=\"true\" /><Text>Joy Division</Text><CurrentMembers i:nil=\"true\" /><Name>Joy Division</Name><PastMembers i:nil=\"true\" /><Songs i:nil=\"true\" /><YearQuit>1980</YearQuit><YearStarted>1976</YearStarted></Artist><Artist><ConcurrencyStamp>AAAAAAAACDk=</ConcurrencyStamp><Id>171</Id><Media i:nil=\"true\" /><Tags i:nil=\"true\" /><Text>Jamie Lynn Spears</Text><CurrentMembers i:nil=\"true\" /><Name>Jamie Lynn Spears</Name><PastMembers i:nil=\"true\" /><Songs i:nil=\"true\" /><YearQuit i:nil=\"true\" /><YearStarted>2002</YearStarted></Artist><Artist><ConcurrencyStamp>AAAAAAAACDs=</ConcurrencyStamp><Id>174</Id><Media i:nil=\"true\" /><Tags i:nil=\"true\" /><Text>Demi Lovato</Text><CurrentMembers i:nil=\"true\" /><Name>Demi Lovato</Name><PastMembers i:nil=\"true\" /><Songs i:nil=\"true\" /><YearQuit i:nil=\"true\" /><YearStarted>2002</YearStarted></Artist><Artist><ConcurrencyStamp>AAAAAAAACI8=</ConcurrencyStamp><Id>176</Id><Media i:nil=\"true\" /><Tags i:nil=\"true\" /><Text>P!nk</Text><CurrentMembers i:nil=\"true\" /><Name>P!nk</Name><PastMembers i:nil=\"true\" /><Songs i:nil=\"true\" /><YearQuit i:nil=\"true\" /><YearStarted>1995</YearStarted></Artist><Artist><ConcurrencyStamp>AAAAAAAACJA=</ConcurrencyStamp><Id>178</Id><Media i:nil=\"true\" /><Tags i:nil=\"true\" /><Text>HAIM</Text><CurrentMembers i:nil=\"true\" /><Name>HAIM</Name><PastMembers i:nil=\"true\" /><Songs i:nil=\"true\" /><YearQuit i:nil=\"true\" /><YearStarted>2007</YearStarted></Artist><Artist><ConcurrencyStamp>AAAAAAAACD0=</ConcurrencyStamp><Id>179</Id><Media i:nil=\"true\" /><Tags i:nil=\"true\" /><Text>Taylor Swift</Text><CurrentMembers i:nil=\"true\" /><Name>Taylor Swift</Name><PastMembers i:nil=\"true\" /><Songs i:nil=\"true\" /><YearQuit i:nil=\"true\" /><YearStarted>2004</YearStarted></Artist><Artist><ConcurrencyStamp>AAAAAAAACD4=</ConcurrencyStamp><Id>181</Id><Media i:nil=\"true\" /><Tags i:nil=\"true\" /><Text>David Bowie</Text><CurrentMembers i:nil=\"true\" /><Name>David Bowie</Name><PastMembers i:nil=\"true\" /><Songs i:nil=\"true\" /><YearQuit>2016</YearQuit><YearStarted>1962</YearStarted></Artist><Artist><ConcurrencyStamp>AAAAAAAACD8=</ConcurrencyStamp><Id>183</Id><Media i:nil=\"true\" /><Tags i:nil=\"true\" /><Text>Robin Schulz</Text><CurrentMembers i:nil=\"true\" /><Name>Robin Schulz</Name><PastMembers i:nil=\"true\" /><Songs i:nil=\"true\" /><YearQuit i:nil=\"true\" /><YearStarted>2007</YearStarted></Artist><Artist><ConcurrencyStamp>AAAAAAAACEA=</ConcurrencyStamp><Id>184</Id><Media i:nil=\"true\" /><Tags i:nil=\"true\" /><Text>KIDDO</Text><CurrentMembers i:nil=\"true\" /><Name>KIDDO</Name><PastMembers i:nil=\"true\" /><Songs i:nil=\"true\" /><YearQuit i:nil=\"true\" /><YearStarted i:nil=\"true\" /></Artist><Artist><ConcurrencyStamp>AAAAAAAACEE=</ConcurrencyStamp><Id>186</Id><Media i:nil=\"true\" /><Tags i:nil=\"true\" /><Text>Shane Codd</Text><CurrentMembers i:nil=\"true\" /><Name>Shane Codd</Name><PastMembers i:nil=\"true\" /><Songs i:nil=\"true\" /><YearQuit i:nil=\"true\" /><YearStarted i:nil=\"true\" /></Artist><Artist><ConcurrencyStamp>AAAAAAAACEI=</ConcurrencyStamp><Id>188</Id><Media i:nil=\"true\" /><Tags i:nil=\"true\" /><Text>Deep Purple</Text><CurrentMembers i:nil=\"true\" /><Name>Deep Purple</Name><PastMembers i:nil=\"true\" /><Songs i:nil=\"true\" /><YearQuit i:nil=\"true\" /><YearStarted>1968</YearStarted></Artist><Artist><ConcurrencyStamp>AAAAAAAACEM=</ConcurrencyStamp><Id>190</Id><Media i:nil=\"true\" /><Tags i:nil=\"true\" /><Text>Selah Sue</Text><CurrentMembers i:nil=\"true\" /><Name>Selah Sue</Name><PastMembers i:nil=\"true\" /><Songs i:nil=\"true\" /><YearQuit i:nil=\"true\" /><YearStarted>2006</YearStarted></Artist><Artist><ConcurrencyStamp>AAAAAAAACEQ=</ConcurrencyStamp><Id>192</Id><Media i:nil=\"true\" /><Tags i:nil=\"true\" /><Text>Tame Impala</Text><CurrentMembers i:nil=\"true\" /><Name>Tame Impala</Name><PastMembers i:nil=\"true\" /><Songs i:nil=\"true\" /><YearQuit i:nil=\"true\" /><YearStarted>2007</YearStarted></Artist><Artist><ConcurrencyStamp>AAAAAAAACJg=</ConcurrencyStamp><Id>194</Id><Media i:nil=\"true\" /><Tags i:nil=\"true\" /><Text>X!NK</Text><CurrentMembers i:nil=\"true\" /><Name>X!NK</Name><PastMembers i:nil=\"true\" /><Songs i:nil=\"true\" /><YearQuit>2009</YearQuit><YearStarted>2003</YearStarted></Artist><Artist><ConcurrencyStamp>AAAAAAAACEY=</ConcurrencyStamp><Id>196</Id><Media i:nil=\"true\" /><Tags i:nil=\"true\" /><Text>Kiiara</Text><CurrentMembers i:nil=\"true\" /><Name>Kiiara</Name><PastMembers i:nil=\"true\" /><Songs i:nil=\"true\" /><YearQuit i:nil=\"true\" /><YearStarted>2013</YearStarted></Artist><Artist><ConcurrencyStamp>AAAAAAAACJk=</ConcurrencyStamp><Id>198</Id><Media i:nil=\"true\" /><Tags i:nil=\"true\" /><Text>Daft Punk</Text><CurrentMembers i:nil=\"true\" /><Name>Daft Punk</Name><PastMembers i:nil=\"true\" /><Songs i:nil=\"true\" /><YearQuit>2021</YearQuit><YearStarted>1993</YearStarted></Artist><Artist><ConcurrencyStamp>AAAAAAAACEo=</ConcurrencyStamp><Id>202</Id><Media i:nil=\"true\" /><Tags i:nil=\"true\" /><Text>Rhea</Text><CurrentMembers i:nil=\"true\" /><Name>Rhea</Name><PastMembers i:nil=\"true\" /><Songs i:nil=\"true\" /><YearQuit i:nil=\"true\" /><YearStarted>2015</YearStarted></Artist><Artist><ConcurrencyStamp>AAAAAAAACEs=</ConcurrencyStamp><Id>204</Id><Media i:nil=\"true\" /><Tags i:nil=\"true\" /><Text>John Miles</Text><CurrentMembers i:nil=\"true\" /><Name>John Miles</Name><PastMembers i:nil=\"true\" /><Songs i:nil=\"true\" /><YearQuit i:nil=\"true\" /><YearStarted>1970</YearStarted></Artist><Artist><ConcurrencyStamp>AAAAAAAACEw=</ConcurrencyStamp><Id>206</Id><Media i:nil=\"true\" /><Tags i:nil=\"true\" /><Text>Twarres</Text><CurrentMembers i:nil=\"true\" /><Name>Twarres</Name><PastMembers i:nil=\"true\" /><Songs i:nil=\"true\" /><YearQuit i:nil=\"true\" /><YearStarted>1999</YearStarted></Artist><Artist><ConcurrencyStamp>AAAAAAAACFA=</ConcurrencyStamp><Id>215</Id><Media i:nil=\"true\" /><Tags i:nil=\"true\" /><Text>Yasmine</Text><CurrentMembers i:nil=\"true\" /><Name>Yasmine</Name><PastMembers i:nil=\"true\" /><Songs i:nil=\"true\" /><YearQuit>2009</YearQuit><YearStarted>1990</YearStarted></Artist><Artist><ConcurrencyStamp>AAAAAAAAs7E=</ConcurrencyStamp><Id>219</Id><Media i:nil=\"true\" /><Tags i:nil=\"true\" /><Text>The Kids</Text><CurrentMembers i:nil=\"true\" /><Name>The Kids</Name><PastMembers i:nil=\"true\" /><Songs i:nil=\"true\" /><YearQuit i:nil=\"true\" /><YearStarted>1976</YearStarted></Artist><Artist><ConcurrencyStamp>AAAAAAAA0vE=</ConcurrencyStamp><Id>221</Id><Media i:nil=\"true\" /><Tags i:nil=\"true\" /><Text>Chance The Rapper</Text><CurrentMembers i:nil=\"true\" /><Name>Chance The Rapper</Name><PastMembers i:nil=\"true\" /><Songs i:nil=\"true\" /><YearQuit i:nil=\"true\" /><YearStarted>2011</YearStarted></Artist><Artist><ConcurrencyStamp>AAAAAAAA0vI=</ConcurrencyStamp><Id>222</Id><Media i:nil=\"true\" /><Tags i:nil=\"true\" /><Text>Justin Bieber</Text><CurrentMembers i:nil=\"true\" /><Name>Justin Bieber</Name><PastMembers i:nil=\"true\" /><Songs i:nil=\"true\" /><YearQuit i:nil=\"true\" /><YearStarted>2007</YearStarted></Artist><Artist><ConcurrencyStamp>AAAAAAABIRQ=</ConcurrencyStamp><Id>224</Id><Media i:nil=\"true\" /><Tags i:nil=\"true\" /><Text>Dire Straits</Text><CurrentMembers i:nil=\"true\" /><Name>Dire Straits</Name><PastMembers i:nil=\"true\" /><Songs i:nil=\"true\" /><YearQuit>1995</YearQuit><YearStarted>1977</YearStarted></Artist><Artist><ConcurrencyStamp>AAAAAAABQFE=</ConcurrencyStamp><Id>226</Id><Media i:nil=\"true\" /><Tags i:nil=\"true\" /><Text>Kaatje</Text><CurrentMembers i:nil=\"true\" /><Name>Kaatje</Name><PastMembers i:nil=\"true\" /><Songs i:nil=\"true\" /><YearQuit i:nil=\"true\" /><YearStarted i:nil=\"true\" /></Artist><Artist><ConcurrencyStamp>AAAAAAABftE=</ConcurrencyStamp><Id>229</Id><Media i:nil=\"true\" /><Tags i:nil=\"true\" /><Text>Eddie Vedder</Text><CurrentMembers i:nil=\"true\" /><Name>Eddie Vedder</Name><PastMembers i:nil=\"true\" /><Songs i:nil=\"true\" /><YearQuit i:nil=\"true\" /><YearStarted>1987</YearStarted></Artist><Artist><ConcurrencyStamp>AAAAAAABnhE=</ConcurrencyStamp><Id>231</Id><Media i:nil=\"true\" /><Tags i:nil=\"true\" /><Text>Abel</Text><CurrentMembers i:nil=\"true\" /><Name>Abel</Name><PastMembers i:nil=\"true\" /><Songs i:nil=\"true\" /><YearQuit i:nil=\"true\" /><YearStarted i:nil=\"true\" /></Artist><Artist><ConcurrencyStamp>AAAAAAACOlE=</ConcurrencyStamp><Id>234</Id><Media i:nil=\"true\" /><Tags i:nil=\"true\" /><Text>Cathy Heller</Text><CurrentMembers i:nil=\"true\" /><Name>Cathy Heller</Name><PastMembers i:nil=\"true\" /><Songs i:nil=\"true\" /><YearQuit i:nil=\"true\" /><YearStarted i:nil=\"true\" /></Artist><Artist><ConcurrencyStamp>AAAAAAACaTE=</ConcurrencyStamp><Id>236</Id><Media i:nil=\"true\" /><Tags i:nil=\"true\" /><Text>Rihanna</Text><CurrentMembers i:nil=\"true\" /><Name>Rihanna</Name><PastMembers i:nil=\"true\" /><Songs i:nil=\"true\" /><YearQuit i:nil=\"true\" /><YearStarted>2003</YearStarted></Artist><Artist><ConcurrencyStamp>AAAAAAACaTI=</ConcurrencyStamp><Id>237</Id><Media i:nil=\"true\" /><Tags i:nil=\"true\" /><Text>T.I.</Text><CurrentMembers i:nil=\"true\" /><Name>T.I.</Name><PastMembers i:nil=\"true\" /><Songs i:nil=\"true\" /><YearQuit i:nil=\"true\" /><YearStarted>1999</YearStarted></Artist><Artist><ConcurrencyStamp>AAAAAAACp7E=</ConcurrencyStamp><Id>239</Id><Media i:nil=\"true\" /><Tags i:nil=\"true\" /><Text>Röyksopp</Text><CurrentMembers i:nil=\"true\" /><Name>Röyksopp</Name><PastMembers i:nil=\"true\" /><Songs i:nil=\"true\" /><YearQuit i:nil=\"true\" /><YearStarted>1998</YearStarted></Artist></ArrayOfArtist>'"
      ]
     },
     "execution_count": 44,
     "metadata": {},
     "output_type": "execute_result"
    }
   ],
   "source": [
    "r.text"
   ]
  },
  {
   "cell_type": "code",
   "execution_count": 32,
   "id": "ad569f56",
   "metadata": {},
   "outputs": [
    {
     "name": "stdout",
     "output_type": "stream",
     "text": [
      "/www.w3.org/2001/XMLSchema-instance\" xmlns=\"https://mintplayer.com/music\"><Artist><ConcurrencyStamp>AAAAAAABzPE=</ConcurrencyStamp><Id>5</Id><Media i:nil=\"true\" /><Tags i:nil=\"true\" /><Text>The Outfield</Text><CurrentMembers i:nil=\"true\" /><Name>The Outfield</Name><PastMembers i:nil=\"true\" /><Songs i:nil=\"true\" /><YearQuit i:nil=\"true\" /><YearStarted>1997</YearStarted></Artist><Artist><ConcurrencyStamp>AAAAAAAB3JI=</ConcurrencyStamp><Id>8</Id><Media i:nil=\"true\" /><Tags i:nil=\"true\" /><Text>Dario G</Text><CurrentMembers i:nil=\"true\" /><Name>Dario G</Name><PastMembers i:nil=\"true\" /><Songs i:nil=\"true\" /><YearQuit i:nil=\"true\" /><YearStarted>1997</YearStarted></Artist><Artist><ConcurrencyStamp>AAAAAAAAB9M=</ConcurrencyStamp><Id>10</Id><Media i:nil=\"true\" /><Tags i:nil=\"true\" /><Text>Beatles</Text><CurrentMembers i:nil=\"true\" /><Name>Beatles</Name><PastMembers i:nil=\"true\" /><Songs i:nil=\"true\" /><YearQuit i:nil=\"true\" /><YearStarted i:nil=\"true\" /></Artist>\n"
     ]
    }
   ],
   "source": [
    "url = 'https://musicdemons.com/api/v1/artist'\n",
    "r = requests.get(url)\n",
    "print(r.text[30:1000])"
   ]
  },
  {
   "cell_type": "code",
   "execution_count": 41,
   "id": "c4f1ccad",
   "metadata": {},
   "outputs": [
    {
     "data": {
      "text/plain": [
       "'<Id>5</Id><Media i:nil=\"true\" /><Tags i:nil=\"true\" /><Text>The Outfield</Text><CurrentMembers i:nil=\"true\" /><Name>The Outfield</Name><PastMembers i:nil=\"true\" /><Songs i:nil=\"true\" /><YearQuit i:nil=\"true\" /><YearStarted>1997</YearStarted></Artist><Artist><ConcurrencyStamp>AAAAAAAB3JI=</ConcurrencyStamp><Id>8</Id><Media i:nil=\"true\" /><Tags i:nil=\"true\" /><Text>Dario G</Text><CurrentMembers i:nil=\"true\" /><Name>Dario G</Name><PastMembers i:nil=\"true\" /><Songs i:nil=\"true\" /><YearQuit i:nil=\"true\" /><YearStarted>1997</YearStarted></Artist><Artist><ConcurrencyStamp>AAAAAAAAB9M=</ConcurrencyStamp><Id>10</Id><Media i:nil=\"true\" /><Tags i:nil=\"true\" /><Text>Beatles</Text><CurrentMembers i:nil=\"true\" /><Name>Beatles</Name><PastMembers i:nil=\"true\" /><Songs i:nil=\"true\" /><YearQuit i:nil=\"true\" /><YearStarted i:nil=\"true\" /></Artist>'"
      ]
     },
     "execution_count": 41,
     "metadata": {},
     "output_type": "execute_result"
    }
   ],
   "source": [
    "r.text[161:1000]"
   ]
  },
  {
   "cell_type": "code",
   "execution_count": 26,
   "id": "c08b3e38",
   "metadata": {},
   "outputs": [
    {
     "name": "stdout",
     "output_type": "stream",
     "text": [
      "{\"type\":\"https://tools.ietf.org/html/rfc7231#section-6.5.4\",\"title\":\"Not Found\",\"status\":404,\"traceId\":\"00-4ef8d5db1ec6b5110f2f06259b4af27a-8826579b991f9e81-00\"}\n"
     ]
    }
   ],
   "source": [
    "#Get specific id\n",
    "url = 'https://musicdemons.com/api/v1/artist/21'\n",
    "r = requests.get(url)\n",
    "print(r.text)"
   ]
  },
  {
   "cell_type": "code",
   "execution_count": 28,
   "id": "8f9da246",
   "metadata": {},
   "outputs": [
    {
     "name": "stdout",
     "output_type": "stream",
     "text": [
      "{\"type\":\"https://tools.ietf.org/html/rfc7231#section-6.5.4\",\"title\":\"Not Found\",\"status\":404,\"traceId\":\"00-ea24d379f090dc9471c1ffb7a059c1e5-4c62392a2e011bf8-00\"}\n"
     ]
    }
   ],
   "source": [
    "# Pass in headers to get the songs and members of the band from the artist\n",
    "url = 'https://musicdemons.com/api/v1/artist/21'\n",
    "headers = {'with': 'songs,members'}\n",
    "r = requests.get(url, headers=headers)\n",
    "print(r.text[:700])"
   ]
  },
  {
   "cell_type": "code",
   "execution_count": 42,
   "id": "86218ec9",
   "metadata": {},
   "outputs": [
    {
     "ename": "JSONDecodeError",
     "evalue": "Expecting value: line 1 column 1 (char 0)",
     "output_type": "error",
     "traceback": [
      "\u001b[0;31m---------------------------------------------------------------------------\u001b[0m",
      "\u001b[0;31mJSONDecodeError\u001b[0m                           Traceback (most recent call last)",
      "\u001b[0;32m/var/folders/rv/hfxn8dwx1hb57lhzx4b9v1l40000gn/T/ipykernel_6579/2253594029.py\u001b[0m in \u001b[0;36m<module>\u001b[0;34m\u001b[0m\n\u001b[0;32m----> 1\u001b[0;31m \u001b[0mtext_json\u001b[0m \u001b[0;34m=\u001b[0m \u001b[0mjson\u001b[0m\u001b[0;34m.\u001b[0m\u001b[0mloads\u001b[0m\u001b[0;34m(\u001b[0m\u001b[0mr\u001b[0m\u001b[0;34m.\u001b[0m\u001b[0mtext\u001b[0m\u001b[0;34m)\u001b[0m\u001b[0;34m\u001b[0m\u001b[0;34m\u001b[0m\u001b[0m\n\u001b[0m\u001b[1;32m      2\u001b[0m \u001b[0mprint\u001b[0m\u001b[0;34m(\u001b[0m\u001b[0mtext_json\u001b[0m\u001b[0;34m[\u001b[0m\u001b[0;34m'name'\u001b[0m\u001b[0;34m]\u001b[0m\u001b[0;34m)\u001b[0m\u001b[0;34m\u001b[0m\u001b[0;34m\u001b[0m\u001b[0m\n\u001b[1;32m      3\u001b[0m \u001b[0;32mfor\u001b[0m \u001b[0msong\u001b[0m \u001b[0;32min\u001b[0m \u001b[0mtext_json\u001b[0m\u001b[0;34m[\u001b[0m\u001b[0;34m'songs'\u001b[0m\u001b[0;34m]\u001b[0m\u001b[0;34m:\u001b[0m\u001b[0;34m\u001b[0m\u001b[0;34m\u001b[0m\u001b[0m\n\u001b[1;32m      4\u001b[0m     \u001b[0mprint\u001b[0m\u001b[0;34m(\u001b[0m\u001b[0msong\u001b[0m\u001b[0;34m[\u001b[0m\u001b[0;34m'title'\u001b[0m\u001b[0;34m]\u001b[0m\u001b[0;34m)\u001b[0m\u001b[0;34m\u001b[0m\u001b[0;34m\u001b[0m\u001b[0m\n",
      "\u001b[0;32m~/opt/anaconda3/lib/python3.9/json/__init__.py\u001b[0m in \u001b[0;36mloads\u001b[0;34m(s, cls, object_hook, parse_float, parse_int, parse_constant, object_pairs_hook, **kw)\u001b[0m\n\u001b[1;32m    344\u001b[0m             \u001b[0mparse_int\u001b[0m \u001b[0;32mis\u001b[0m \u001b[0;32mNone\u001b[0m \u001b[0;32mand\u001b[0m \u001b[0mparse_float\u001b[0m \u001b[0;32mis\u001b[0m \u001b[0;32mNone\u001b[0m \u001b[0;32mand\u001b[0m\u001b[0;34m\u001b[0m\u001b[0;34m\u001b[0m\u001b[0m\n\u001b[1;32m    345\u001b[0m             parse_constant is None and object_pairs_hook is None and not kw):\n\u001b[0;32m--> 346\u001b[0;31m         \u001b[0;32mreturn\u001b[0m \u001b[0m_default_decoder\u001b[0m\u001b[0;34m.\u001b[0m\u001b[0mdecode\u001b[0m\u001b[0;34m(\u001b[0m\u001b[0ms\u001b[0m\u001b[0;34m)\u001b[0m\u001b[0;34m\u001b[0m\u001b[0;34m\u001b[0m\u001b[0m\n\u001b[0m\u001b[1;32m    347\u001b[0m     \u001b[0;32mif\u001b[0m \u001b[0mcls\u001b[0m \u001b[0;32mis\u001b[0m \u001b[0;32mNone\u001b[0m\u001b[0;34m:\u001b[0m\u001b[0;34m\u001b[0m\u001b[0;34m\u001b[0m\u001b[0m\n\u001b[1;32m    348\u001b[0m         \u001b[0mcls\u001b[0m \u001b[0;34m=\u001b[0m \u001b[0mJSONDecoder\u001b[0m\u001b[0;34m\u001b[0m\u001b[0;34m\u001b[0m\u001b[0m\n",
      "\u001b[0;32m~/opt/anaconda3/lib/python3.9/json/decoder.py\u001b[0m in \u001b[0;36mdecode\u001b[0;34m(self, s, _w)\u001b[0m\n\u001b[1;32m    335\u001b[0m \u001b[0;34m\u001b[0m\u001b[0m\n\u001b[1;32m    336\u001b[0m         \"\"\"\n\u001b[0;32m--> 337\u001b[0;31m         \u001b[0mobj\u001b[0m\u001b[0;34m,\u001b[0m \u001b[0mend\u001b[0m \u001b[0;34m=\u001b[0m \u001b[0mself\u001b[0m\u001b[0;34m.\u001b[0m\u001b[0mraw_decode\u001b[0m\u001b[0;34m(\u001b[0m\u001b[0ms\u001b[0m\u001b[0;34m,\u001b[0m \u001b[0midx\u001b[0m\u001b[0;34m=\u001b[0m\u001b[0m_w\u001b[0m\u001b[0;34m(\u001b[0m\u001b[0ms\u001b[0m\u001b[0;34m,\u001b[0m \u001b[0;36m0\u001b[0m\u001b[0;34m)\u001b[0m\u001b[0;34m.\u001b[0m\u001b[0mend\u001b[0m\u001b[0;34m(\u001b[0m\u001b[0;34m)\u001b[0m\u001b[0;34m)\u001b[0m\u001b[0;34m\u001b[0m\u001b[0;34m\u001b[0m\u001b[0m\n\u001b[0m\u001b[1;32m    338\u001b[0m         \u001b[0mend\u001b[0m \u001b[0;34m=\u001b[0m \u001b[0m_w\u001b[0m\u001b[0;34m(\u001b[0m\u001b[0ms\u001b[0m\u001b[0;34m,\u001b[0m \u001b[0mend\u001b[0m\u001b[0;34m)\u001b[0m\u001b[0;34m.\u001b[0m\u001b[0mend\u001b[0m\u001b[0;34m(\u001b[0m\u001b[0;34m)\u001b[0m\u001b[0;34m\u001b[0m\u001b[0;34m\u001b[0m\u001b[0m\n\u001b[1;32m    339\u001b[0m         \u001b[0;32mif\u001b[0m \u001b[0mend\u001b[0m \u001b[0;34m!=\u001b[0m \u001b[0mlen\u001b[0m\u001b[0;34m(\u001b[0m\u001b[0ms\u001b[0m\u001b[0;34m)\u001b[0m\u001b[0;34m:\u001b[0m\u001b[0;34m\u001b[0m\u001b[0;34m\u001b[0m\u001b[0m\n",
      "\u001b[0;32m~/opt/anaconda3/lib/python3.9/json/decoder.py\u001b[0m in \u001b[0;36mraw_decode\u001b[0;34m(self, s, idx)\u001b[0m\n\u001b[1;32m    353\u001b[0m             \u001b[0mobj\u001b[0m\u001b[0;34m,\u001b[0m \u001b[0mend\u001b[0m \u001b[0;34m=\u001b[0m \u001b[0mself\u001b[0m\u001b[0;34m.\u001b[0m\u001b[0mscan_once\u001b[0m\u001b[0;34m(\u001b[0m\u001b[0ms\u001b[0m\u001b[0;34m,\u001b[0m \u001b[0midx\u001b[0m\u001b[0;34m)\u001b[0m\u001b[0;34m\u001b[0m\u001b[0;34m\u001b[0m\u001b[0m\n\u001b[1;32m    354\u001b[0m         \u001b[0;32mexcept\u001b[0m \u001b[0mStopIteration\u001b[0m \u001b[0;32mas\u001b[0m \u001b[0merr\u001b[0m\u001b[0;34m:\u001b[0m\u001b[0;34m\u001b[0m\u001b[0;34m\u001b[0m\u001b[0m\n\u001b[0;32m--> 355\u001b[0;31m             \u001b[0;32mraise\u001b[0m \u001b[0mJSONDecodeError\u001b[0m\u001b[0;34m(\u001b[0m\u001b[0;34m\"Expecting value\"\u001b[0m\u001b[0;34m,\u001b[0m \u001b[0ms\u001b[0m\u001b[0;34m,\u001b[0m \u001b[0merr\u001b[0m\u001b[0;34m.\u001b[0m\u001b[0mvalue\u001b[0m\u001b[0;34m)\u001b[0m \u001b[0;32mfrom\u001b[0m \u001b[0;32mNone\u001b[0m\u001b[0;34m\u001b[0m\u001b[0;34m\u001b[0m\u001b[0m\n\u001b[0m\u001b[1;32m    356\u001b[0m         \u001b[0;32mreturn\u001b[0m \u001b[0mobj\u001b[0m\u001b[0;34m,\u001b[0m \u001b[0mend\u001b[0m\u001b[0;34m\u001b[0m\u001b[0;34m\u001b[0m\u001b[0m\n",
      "\u001b[0;31mJSONDecodeError\u001b[0m: Expecting value: line 1 column 1 (char 0)"
     ]
    }
   ],
   "source": [
    "text_json = json.loads(r.text)\n",
    "print(text_json['name'])\n",
    "for song in text_json['songs']:\n",
    "    print(song['title'])"
   ]
  }
 ],
 "metadata": {
  "kernelspec": {
   "display_name": "Python 3 (ipykernel)",
   "language": "python",
   "name": "python3"
  },
  "language_info": {
   "codemirror_mode": {
    "name": "ipython",
    "version": 3
   },
   "file_extension": ".py",
   "mimetype": "text/x-python",
   "name": "python",
   "nbconvert_exporter": "python",
   "pygments_lexer": "ipython3",
   "version": "3.9.7"
  }
 },
 "nbformat": 4,
 "nbformat_minor": 5
}
