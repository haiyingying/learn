{
 "cells": [
  {
   "cell_type": "markdown",
   "id": "f1ef02b9",
   "metadata": {},
   "source": [
    "# Decorator\n",
    "Decorating function allows us to easily add functionality to the original function."
   ]
  },
  {
   "cell_type": "code",
   "execution_count": 5,
   "id": "2899d3fc",
   "metadata": {},
   "outputs": [
    {
     "name": "stdout",
     "output_type": "stream",
     "text": [
      "wrapper executed this before display\n",
      "display function ran\n"
     ]
    }
   ],
   "source": [
    "def decorator_function(original_function):\n",
    "    def wrapper_function():\n",
    "        \n",
    "        print('wrapper executed this before {}'.format(original_function.__name__))\n",
    "        \n",
    "        # the original function will be executed when the wrapper function is executed\n",
    "        return original_function()\n",
    "    \n",
    "    #return the wrapper function that is yet to be executed\n",
    "    return wrapper_function\n",
    "\n",
    "def display():\n",
    "    print('display function ran')\n",
    "    \n",
    "decorated_display=decorator_function(display)\n",
    "\n",
    "#When the function is run, it executes the wrapper function, which then execute the original function that was passed\n",
    "decorated_display()"
   ]
  },
  {
   "cell_type": "code",
   "execution_count": 6,
   "id": "f6f1f968",
   "metadata": {},
   "outputs": [
    {
     "name": "stdout",
     "output_type": "stream",
     "text": [
      "wrapper executed this before display\n",
      "display function ran\n"
     ]
    }
   ],
   "source": [
    "def decorator_function(original_function):\n",
    "    def wrapper_function():\n",
    "        \n",
    "        print('wrapper executed this before {}'.format(original_function.__name__))\n",
    "        \n",
    "        # the original function will be executed when the wrapper function is executed\n",
    "        return original_function()\n",
    "    \n",
    "    #return the wrapper function that is yet to be executed\n",
    "    return wrapper_function\n",
    "\n",
    "@decorator_function\n",
    "#it is exactly the same as saying we want the display function to equal to the decorator_function with display function \n",
    "#passed in as an argument\n",
    "def display():\n",
    "    print('display function ran')\n",
    "    \n",
    "display()\n"
   ]
  },
  {
   "cell_type": "code",
   "execution_count": 10,
   "id": "265bdb32",
   "metadata": {},
   "outputs": [
    {
     "ename": "TypeError",
     "evalue": "wrapper_function() takes 0 positional arguments but 2 were given",
     "output_type": "error",
     "traceback": [
      "\u001b[0;31m---------------------------------------------------------------------------\u001b[0m",
      "\u001b[0;31mTypeError\u001b[0m                                 Traceback (most recent call last)",
      "\u001b[0;32m/var/folders/rv/hfxn8dwx1hb57lhzx4b9v1l40000gn/T/ipykernel_21117/3550263357.py\u001b[0m in \u001b[0;36m<module>\u001b[0;34m\u001b[0m\n\u001b[1;32m     20\u001b[0m     \u001b[0mprint\u001b[0m\u001b[0;34m(\u001b[0m\u001b[0;34m'display_info ran with arguments({},{})'\u001b[0m\u001b[0;34m.\u001b[0m\u001b[0mformat\u001b[0m\u001b[0;34m(\u001b[0m\u001b[0mname\u001b[0m\u001b[0;34m,\u001b[0m\u001b[0mage\u001b[0m\u001b[0;34m)\u001b[0m\u001b[0;34m)\u001b[0m\u001b[0;34m\u001b[0m\u001b[0;34m\u001b[0m\u001b[0m\n\u001b[1;32m     21\u001b[0m \u001b[0;34m\u001b[0m\u001b[0m\n\u001b[0;32m---> 22\u001b[0;31m \u001b[0mdisplay_info\u001b[0m\u001b[0;34m(\u001b[0m\u001b[0;34m'John'\u001b[0m\u001b[0;34m,\u001b[0m\u001b[0;36m25\u001b[0m\u001b[0;34m)\u001b[0m\u001b[0;34m\u001b[0m\u001b[0;34m\u001b[0m\u001b[0m\n\u001b[0m",
      "\u001b[0;31mTypeError\u001b[0m: wrapper_function() takes 0 positional arguments but 2 were given"
     ]
    }
   ],
   "source": [
    "def decorator_function(original_function):\n",
    "    def wrapper_function():\n",
    "        \n",
    "        print('wrapper executed this before {}'.format(original_function.__name__))\n",
    "        \n",
    "        # the original function will be executed when the wrapper function is executed\n",
    "        return original_function()\n",
    "    \n",
    "    #return the wrapper function that is yet to be executed\n",
    "    return wrapper_function\n",
    "\n",
    "@decorator_function\n",
    "#it is exactly the same as saying we want the display function to equal to the decorator_function with display function \n",
    "#passed in as an argument\n",
    "def display():\n",
    "    print('display function ran')\n",
    "\n",
    "@decorator_function\n",
    "def display_info(name,age):\n",
    "    print('display_info ran with arguments({},{})'.format(name,age))\n",
    "    \n",
    "#It doesn't work because wrapper function expects 0 arguments \n",
    "display_info('John',25)"
   ]
  },
  {
   "cell_type": "code",
   "execution_count": 12,
   "id": "255e67e2",
   "metadata": {},
   "outputs": [
    {
     "name": "stdout",
     "output_type": "stream",
     "text": [
      "wrapper executed this before display_info\n",
      "display_info ran with arguments(John,25)\n",
      "wrapper executed this before display\n",
      "display function ran\n"
     ]
    }
   ],
   "source": [
    "def decorator_function(original_function):\n",
    "    #*args and **kwargs allows us the accept any arbitary number of arguments and keywords arguments\n",
    "    def wrapper_function(*args,**kwargs):\n",
    "        \n",
    "        print('wrapper executed this before {}'.format(original_function.__name__))\n",
    "        \n",
    "        # the original function will be executed when the wrapper function is executed\n",
    "        return original_function(*args,**kwargs)\n",
    "    \n",
    "    #return the wrapper function that is yet to be executed\n",
    "    return wrapper_function\n",
    "\n",
    "@decorator_function\n",
    "#it is exactly the same as saying we want the display function to equal to the decorator_function with display function \n",
    "#passed in as an argument\n",
    "def display():\n",
    "    print('display function ran')\n",
    "\n",
    "@decorator_function\n",
    "def display_info(name,age):\n",
    "    print('display_info ran with arguments({},{})'.format(name,age))\n",
    "    \n",
    "display_info('John',25)\n",
    "#display()"
   ]
  },
  {
   "cell_type": "code",
   "execution_count": 17,
   "id": "7ee5e319",
   "metadata": {},
   "outputs": [
    {
     "name": "stdout",
     "output_type": "stream",
     "text": [
      "call method executed this before display_info\n",
      "display_info ran with arguments(John,25)\n"
     ]
    }
   ],
   "source": [
    "#Turn it into a class\n",
    "\n",
    "class decorator_class(object):\n",
    "    def __init__(self,original_function):\n",
    "        self.original_function=original_function\n",
    "        \n",
    "    def __call__(self,*args,**kwargs):\n",
    "        print('call method executed this before {}'.format(self.original_function.__name__))\n",
    "        return self.original_function(*args,**kwargs)\n",
    "    \n",
    "#decorator class instead of decorator function\n",
    "@decorator_class\n",
    "def display():\n",
    "    print('display function ran')\n",
    "\n",
    "#No indentation\n",
    "@decorator_class\n",
    "def display_info(name,age):\n",
    "    print('display_info ran with arguments({},{})'.format(name,age))\n",
    "    \n",
    "    \n",
    "display_info('John',25)\n",
    "#display()"
   ]
  },
  {
   "cell_type": "markdown",
   "id": "95fe31e6",
   "metadata": {},
   "source": [
    "## Practical example\n",
    "logging the run time and arguments"
   ]
  },
  {
   "cell_type": "code",
   "execution_count": 21,
   "id": "73139fe0",
   "metadata": {},
   "outputs": [],
   "source": [
    "import logging"
   ]
  },
  {
   "cell_type": "code",
   "execution_count": 19,
   "id": "b380dd6f",
   "metadata": {},
   "outputs": [
    {
     "name": "stdout",
     "output_type": "stream",
     "text": [
      "display_info ran with arguments(John,25)\n",
      "display_info ran with arguments(Hank,33)\n"
     ]
    }
   ],
   "source": [
    "def my_logger(orig_func):\n",
    "\n",
    "    logging.basicConfig(filename='{}.log'.format(orig_func.__name__),level=logging.INFO)\n",
    "    \n",
    "    def wrapper(*args,**kwargs):\n",
    "        logging.info(\n",
    "        'ran with args:{}, and kwargs: {}'.format(args,kwargs))\n",
    "        return orig_func(*args,**kwargs)\n",
    "    return wrapper\n",
    "\n",
    "\n",
    "@my_logger\n",
    "def display_info(name,age):\n",
    "    print('display_info ran with arguments({},{})'.format(name,age))\n",
    "    \n",
    "display_info('John',25)\n",
    "display_info('Hank',33)"
   ]
  },
  {
   "cell_type": "code",
   "execution_count": 20,
   "id": "f1b5c568",
   "metadata": {},
   "outputs": [],
   "source": [
    "import time"
   ]
  },
  {
   "cell_type": "code",
   "execution_count": 24,
   "id": "82daa3ad",
   "metadata": {},
   "outputs": [
    {
     "name": "stdout",
     "output_type": "stream",
     "text": [
      "display_info ran with arguments(John,25)\n",
      "display_info ran in : 1.004930019378662 sec\n"
     ]
    }
   ],
   "source": [
    "def my_timer(orig_func):\n",
    "    def wrapper(*args,**kwargs):\n",
    "        t1=time.time()\n",
    "         #within the wrapper function, we set the original function and set it as result\n",
    "        result=orig_func(*args,**kwargs)\n",
    "        t2=time.time()-t1\n",
    "        print('{} ran in : {} sec'.format(orig_func.__name__,t2))\n",
    "    #Return the unexcuted wrapper so the functionality can be added to the original function\n",
    "    return wrapper\n",
    "\n",
    "#Add my_timer (already defined above and takes in a function as an argument) to the display_info() function\n",
    "@my_timer\n",
    "def display_info(name,age):\n",
    "    time.sleep(1)\n",
    "    print('display_info ran with arguments({},{})'.format(name,age))\n",
    "    \n",
    "    \n",
    "display_info('John',25)"
   ]
  },
  {
   "cell_type": "markdown",
   "id": "b6fcdc71",
   "metadata": {},
   "source": [
    "## Chain the decorator"
   ]
  },
  {
   "cell_type": "code",
   "execution_count": 27,
   "id": "e7555eac",
   "metadata": {},
   "outputs": [
    {
     "name": "stdout",
     "output_type": "stream",
     "text": [
      "display_info ran with arguments(John,25)\n",
      "wrapper ran in : 1.0047709941864014 sec\n"
     ]
    }
   ],
   "source": [
    "@my_timer\n",
    "@my_logger\n",
    "def display_info(name,age):\n",
    "    time.sleep(1)\n",
    "    print('display_info ran with arguments({},{})'.format(name,age))\n",
    "\n",
    "display_info('John',25)"
   ]
  },
  {
   "cell_type": "code",
   "execution_count": 29,
   "id": "8ac74385",
   "metadata": {},
   "outputs": [
    {
     "name": "stdout",
     "output_type": "stream",
     "text": [
      "display_info ran with arguments(John,25)\n",
      "wrapper ran in : 1.0035061836242676 sec\n"
     ]
    }
   ],
   "source": [
    "#The top one wraps the one below\n",
    "def display_info(name,age):\n",
    "    time.sleep(1)\n",
    "    print('display_info ran with arguments({},{})'.format(name,age))\n",
    "\n",
    "display_info=my_timer(my_logger(display_info))\n",
    "    \n",
    "display_info('John',25)"
   ]
  },
  {
   "cell_type": "code",
   "execution_count": 26,
   "id": "e4e931bf",
   "metadata": {},
   "outputs": [
    {
     "name": "stdout",
     "output_type": "stream",
     "text": [
      "display_info ran with arguments(John,25)\n",
      "display_info ran in : 1.0056278705596924 sec\n"
     ]
    }
   ],
   "source": [
    "@my_logger\n",
    "@my_timer\n",
    "def display_info(name,age):\n",
    "    time.sleep(1)\n",
    "    print('display_info ran with arguments({},{})'.format(name,age))\n",
    "\n",
    "display_info('John',25)"
   ]
  },
  {
   "cell_type": "code",
   "execution_count": 28,
   "id": "899da4da",
   "metadata": {},
   "outputs": [
    {
     "name": "stdout",
     "output_type": "stream",
     "text": [
      "display_info ran with arguments(John,25)\n",
      "display_info ran in : 1.0021538734436035 sec\n"
     ]
    }
   ],
   "source": [
    "#Staking my logger above my time above display info is equivalent to chaining the functions\n",
    "def display_info(name,age):\n",
    "    time.sleep(1)\n",
    "    print('display_info ran with arguments({},{})'.format(name,age))\n",
    "\n",
    "display_info=my_logger(my_timer(display_info))\n",
    "    \n",
    "display_info('John',25)"
   ]
  },
  {
   "cell_type": "markdown",
   "id": "cb710485",
   "metadata": {},
   "source": [
    "## Preserving the information\n",
    "\n",
    "It is always a good idea to preserve the informaiton of the original function when we use the decorator"
   ]
  },
  {
   "cell_type": "code",
   "execution_count": 32,
   "id": "3b9a5b65",
   "metadata": {},
   "outputs": [
    {
     "name": "stdout",
     "output_type": "stream",
     "text": [
      "wrapper\n"
     ]
    }
   ],
   "source": [
    "def display_info(name,age):\n",
    "    time.sleep(1)\n",
    "    print('display_info ran with arguments({},{})'.format(name,age))\n",
    "display_info=my_timer(my_logger(display_info))\n",
    "print(display_info.__name__) # This returns wrapper instead of display_info"
   ]
  },
  {
   "cell_type": "code",
   "execution_count": 30,
   "id": "944d8e04",
   "metadata": {},
   "outputs": [],
   "source": [
    "from functools import wraps"
   ]
  },
  {
   "cell_type": "markdown",
   "id": "4d3dd199",
   "metadata": {},
   "source": [
    "Decorate the wrappers with the wrap operator"
   ]
  },
  {
   "cell_type": "code",
   "execution_count": 33,
   "id": "946be1b0",
   "metadata": {},
   "outputs": [],
   "source": [
    "def my_logger(orig_func):\n",
    "\n",
    "    logging.basicConfig(filename='{}.log'.format(orig_func.__name__),level=logging.INFO)\n",
    "    @wraps(orig_func)\n",
    "    def wrapper(*args,**kwargs):\n",
    "        logging.info(\n",
    "        'ran with args:{}, and kwargs: {}'.format(args,kwargs))\n",
    "        return orig_func(*args,**kwargs)\n",
    "    return wrapper"
   ]
  },
  {
   "cell_type": "code",
   "execution_count": 34,
   "id": "435247df",
   "metadata": {},
   "outputs": [],
   "source": [
    "def my_timer(orig_func):\n",
    "    @wraps(orig_func)\n",
    "    def wrapper(*args,**kwargs):\n",
    "        t1=time.time()\n",
    "         #within the wrapper function, we set the original function and set it as result\n",
    "        result=orig_func(*args,**kwargs)\n",
    "        t2=time.time()-t1\n",
    "        print('{} ran in : {} sec'.format(orig_func.__name__,t2))\n",
    "    #Return the unexcuted wrapper so the functionality can be added to the original function\n",
    "    return wrapper"
   ]
  },
  {
   "cell_type": "code",
   "execution_count": 35,
   "id": "fd4d50df",
   "metadata": {},
   "outputs": [
    {
     "name": "stdout",
     "output_type": "stream",
     "text": [
      "display_info\n"
     ]
    }
   ],
   "source": [
    "def display_info(name,age):\n",
    "    time.sleep(1)\n",
    "    print('display_info ran with arguments({},{})'.format(name,age))\n",
    "display_info=my_timer(my_logger(display_info))\n",
    "print(display_info.__name__) # This returns wrapper instead of display_info"
   ]
  },
  {
   "cell_type": "code",
   "execution_count": 37,
   "id": "85253694",
   "metadata": {},
   "outputs": [
    {
     "name": "stdout",
     "output_type": "stream",
     "text": [
      "display_info ran with arguments(Tom,33)\n",
      "display_info ran in : 1.0023369789123535 sec\n"
     ]
    }
   ],
   "source": [
    "@my_logger\n",
    "@my_timer\n",
    "def display_info(name,age):\n",
    "    time.sleep(1)\n",
    "    print('display_info ran with arguments({},{})'.format(name,age))\n",
    "\n",
    "display_info('Tom',33)"
   ]
  }
 ],
 "metadata": {
  "kernelspec": {
   "display_name": "Python 3 (ipykernel)",
   "language": "python",
   "name": "python3"
  },
  "language_info": {
   "codemirror_mode": {
    "name": "ipython",
    "version": 3
   },
   "file_extension": ".py",
   "mimetype": "text/x-python",
   "name": "python",
   "nbconvert_exporter": "python",
   "pygments_lexer": "ipython3",
   "version": "3.9.7"
  }
 },
 "nbformat": 4,
 "nbformat_minor": 5
}
