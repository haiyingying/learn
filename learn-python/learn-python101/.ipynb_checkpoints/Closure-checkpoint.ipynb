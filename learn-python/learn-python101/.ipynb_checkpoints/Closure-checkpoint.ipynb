{
 "cells": [
  {
   "cell_type": "markdown",
   "id": "14f757f0",
   "metadata": {},
   "source": [
    "# Closure\n",
    "* first class function allows us to treat function as an object\n",
    "* \"A closure is a record storing a function together with an environment: a mapping associating each free varaible of the function with the value or storage location to which the name was bound when the closure was created. A closure, unlike a plain function, allows the function to access those captured variables through the closure's reference to them, even when the function is invoked outside their scope"
   ]
  },
  {
   "cell_type": "code",
   "execution_count": 1,
   "id": "6461de1f",
   "metadata": {},
   "outputs": [
    {
     "name": "stdout",
     "output_type": "stream",
     "text": [
      "Hi\n"
     ]
    }
   ],
   "source": [
    "def outer_func():\n",
    "    message = 'Hi'\n",
    "    def inner_func():\n",
    "        #message is a free variable - not defined within the inner function but has access \n",
    "        print(message)\n",
    "    \n",
    "    return inner_func()\n",
    "\n",
    "outer_func()"
   ]
  },
  {
   "cell_type": "code",
   "execution_count": 3,
   "id": "59bac25a",
   "metadata": {},
   "outputs": [],
   "source": [
    "def outer_func():\n",
    "    message = 'Hi'\n",
    "    def inner_func():\n",
    "        #message is a free variable - not defined within the inner function but has access \n",
    "        print(message)\n",
    "    \n",
    "    return inner_func\n",
    "\n",
    "#instead of executing the inner function, it returns the inner function\n",
    "my_func=outer_func()"
   ]
  },
  {
   "cell_type": "code",
   "execution_count": 4,
   "id": "1c515f7e",
   "metadata": {},
   "outputs": [
    {
     "data": {
      "text/plain": [
       "<function __main__.outer_func.<locals>.inner_func()>"
      ]
     },
     "execution_count": 4,
     "metadata": {},
     "output_type": "execute_result"
    }
   ],
   "source": [
    "my_func"
   ]
  },
  {
   "cell_type": "code",
   "execution_count": 5,
   "id": "2d8a766f",
   "metadata": {},
   "outputs": [
    {
     "name": "stdout",
     "output_type": "stream",
     "text": [
      "Hi\n"
     ]
    }
   ],
   "source": [
    "#A closure is an inner function that remembers and has access to variable in the local scope, even AFTER the outer function has executed\n",
    "my_func()"
   ]
  },
  {
   "cell_type": "code",
   "execution_count": 10,
   "id": "54048d0f",
   "metadata": {},
   "outputs": [],
   "source": [
    "def outer_func(msg):\n",
    "    message= msg\n",
    "    def inner_func():\n",
    "        #message is a free variable - not defined within the inner function but has access \n",
    "        print(message)\n",
    "    \n",
    "    return inner_func\n",
    "\n",
    "hi_func=outer_func('Hi')\n",
    "hello_func=outer_func('Hello')"
   ]
  },
  {
   "cell_type": "code",
   "execution_count": 12,
   "id": "9932e285",
   "metadata": {},
   "outputs": [
    {
     "name": "stdout",
     "output_type": "stream",
     "text": [
      "Hi\n",
      "Hello\n"
     ]
    }
   ],
   "source": [
    "#A closure closes over the free variable from their environment. b\n",
    "hi_func()\n",
    "hello_func()"
   ]
  },
  {
   "cell_type": "code",
   "execution_count": 13,
   "id": "6a35986a",
   "metadata": {},
   "outputs": [],
   "source": [
    "import logging\n",
    "logging.basicConfig(filename='example.log',level=logging.INFO)\n"
   ]
  },
  {
   "cell_type": "code",
   "execution_count": 20,
   "id": "718ab751",
   "metadata": {},
   "outputs": [
    {
     "name": "stdout",
     "output_type": "stream",
     "text": [
      "6\n",
      "9\n",
      "5\n",
      "10\n"
     ]
    }
   ],
   "source": [
    "def logger(func):\n",
    "    def log_func(*args): #meaning you can add as many arguments as you want\n",
    "        #logging that we are running the function that we pass in\n",
    "        logging.info('Running,\"{}\" witht arguments {}'.format(func.__name__,args))\n",
    "        #print the output from the function\n",
    "        print(func(*args))\n",
    "    return log_func\n",
    "\n",
    "def add(x,y):\n",
    "    return x+y\n",
    "\n",
    "def sub(x,y):\n",
    "    return x-y\n",
    "\n",
    "#Pass in the add function to the outer logger function\n",
    "add_logger=logger(add)\n",
    "sub_logger=logger(sub)\n",
    "\n",
    "\n",
    "add_logger(3,3)\n",
    "add_logger(4,5)\n",
    "sub_logger(10,5)\n",
    "sub_logger(20,10)"
   ]
  }
 ],
 "metadata": {
  "kernelspec": {
   "display_name": "Python 3 (ipykernel)",
   "language": "python",
   "name": "python3"
  },
  "language_info": {
   "codemirror_mode": {
    "name": "ipython",
    "version": 3
   },
   "file_extension": ".py",
   "mimetype": "text/x-python",
   "name": "python",
   "nbconvert_exporter": "python",
   "pygments_lexer": "ipython3",
   "version": "3.9.7"
  }
 },
 "nbformat": 4,
 "nbformat_minor": 5
}
