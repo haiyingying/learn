{
 "cells": [
  {
   "cell_type": "code",
   "execution_count": 3,
   "id": "8f3edefd",
   "metadata": {},
   "outputs": [],
   "source": [
    "import os\n",
    "from sqlalchemy import create_engine\n",
    "import pandas as pd\n",
    "import numpy as np\n",
    "import re\n",
    "from os.path import exists"
   ]
  },
  {
   "cell_type": "code",
   "execution_count": null,
   "id": "54ffc66b",
   "metadata": {},
   "outputs": [],
   "source": [
    "pd.set_option('display.max_columns', 50)\n",
    "pd.set_option('display.max_colwidth',1000)"
   ]
  },
  {
   "cell_type": "markdown",
   "id": "9d4fa83b",
   "metadata": {},
   "source": [
    "<br>(?!) - negative lookahead\n",
    "<br>(?=) - positive lookahead\n",
    "<br>(?<=) - positive lookbehind\n",
    "<br>(?<!) - negative lookbehind\n",
    "<br>(?>) - atomic group"
   ]
  },
  {
   "cell_type": "code",
   "execution_count": 14,
   "id": "c3ea9689",
   "metadata": {},
   "outputs": [],
   "source": [
    "def extract_att(df_product,direction):\n",
    "    df_product['temp_title']=df_product[direction+'title'].fillna('').str.lower()\n",
    "    df_product['temp_brand_name']=df_product['brand_name'].fillna('').str.lower()\n",
    "    df_product['temp_brand_name']=df_product['temp_brand_name'].str.replace(r'\\+|\\?|\\|','')    \n",
    "    df_product[direction+'model']=df_product.apply(lambda row : re.search(r'(?<=('+row['temp_brand_name']+'\\s))[A-Za-z]+\\s?[A-Za-z\\+\\.\\d]*\\s?[A-Za-z\\+\\.\\d]*\\s?|$',row['temp_title']).group(), axis=1)\n",
    "    df_product[direction+'cp_model']=df_product.apply(lambda row : re.search(r'(?<=('+'for'+'\\s))[A-Za-z]+\\s?[A-Za-z\\+\\.\\d]*\\s?[A-Za-z\\+\\.\\d]*\\s?|$',row['temp_title']).group(), axis=1)\n",
    "\n",
    "    bi_name_regex={'is_watch':r'[wW]atch'\n",
    "                   ,'is_apple_watch':r'[Aa]pple\\s?[Ww]atch'\n",
    "                   ,'is_band':r'[bB]and'\n",
    "                   ,'is_screen_protector':r'[pP]rotector|shield|guard'\n",
    "                   ,'is_case':r'[cC]ase'\n",
    "                   ,'is_cable':r'[cC]able'\n",
    "                   ,'is_charger':r'charg[er|ing]|powerbank'\n",
    "                   ,'is_stand':r'(stand)|(mount)|(holder)|(arm)|clamp'\n",
    "                   ,'is_fan':r'[fF]an'\n",
    "                   ,'is_magnifier':r'screen\\smagnifier'\n",
    "                   ,'is_adapter':r'adapter'\n",
    "                  }\n",
    "\n",
    "\n",
    "    att_name_regex={\n",
    "        'size_mm':r'([-.0-9]+mm)'\n",
    "        ,'size_inch':r'([\\.0-9]+\\s?(inch|\")+)'\n",
    "        ,'size_inch_min':r'(((?<!(\\-))|(?<!(\\to)))\\s?([0-9]+\\.?[0-9]*\\s?((?=(\\'\\'))|(?=(inches))|(?=(inch))|(?=(\")))))'\n",
    "        ,'size_inch_max':r'(((?<=(\\-))|(?<=(\\to)))\\s?([0-9]+\\.?[0-9]*\\s?((?=(\\'\\'))|(?=(inches))|(?=(inch))|(?=(\")))))'\n",
    "        ,'storage':r'([2|4|8|16|64|128]gb/s?[Rr][Aa][Mm])'\n",
    "    }\n",
    "    \n",
    "    #is type attributes\n",
    "    for name in bi_name_regex:\n",
    "        regex_t=bi_name_regex[name]\n",
    "        df_product[direction+name]=df_product['temp_title'].str.contains(regex_t)\n",
    "\n",
    "    #attribtes\n",
    "    for name in att_name_regex:\n",
    "        regex_t=att_name_regex[name]\n",
    "        df_product[direction+name]=df_product['temp_title'].str.extract(regex_t)[0]\n",
    "    \n",
    "    df_product['is_accessory']=np.where(df_product.is_band|df_product.is_screen_protector|df_product.is_case\n",
    "                                        |df_product.is_cable|df_product.is_charger|df_product.is_stand\n",
    "                                        |df_product.is_fan|df_product.is_magnifier|df_product.is_adapter,True,False)\n",
    "        #fix data type\n",
    "    df_product['size_inch_max']=pd.to_numeric(df_product.size_inch_max.str.strip())\n",
    "    df_product['size_inch_min']=pd.to_numeric(df_product.size_inch_min.str.strip())\n",
    "    \n",
    "    #drop prefix\n",
    "    df_product=df_product.loc[:,~df_product.columns.str.startswith('temp')]\n",
    "    \n",
    "    return df_product"
   ]
  }
 ],
 "metadata": {
  "kernelspec": {
   "display_name": "Python 3 (ipykernel)",
   "language": "python",
   "name": "python3"
  },
  "language_info": {
   "codemirror_mode": {
    "name": "ipython",
    "version": 3
   },
   "file_extension": ".py",
   "mimetype": "text/x-python",
   "name": "python",
   "nbconvert_exporter": "python",
   "pygments_lexer": "ipython3",
   "version": "3.9.7"
  }
 },
 "nbformat": 4,
 "nbformat_minor": 5
}
