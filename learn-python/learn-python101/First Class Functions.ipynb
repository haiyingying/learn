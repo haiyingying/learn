{
 "cells": [
  {
   "cell_type": "markdown",
   "id": "e3573656",
   "metadata": {},
   "source": [
    "# First-class Function\n",
    "* \"A progarmming language is said to have first-class function if it treats functions as first-class citizens\" \n",
    "* First-class citizen (sometimes called a first class objects) in a programming language is an entity which supports all the operations generally available to other entities. These operations typically include being passed as an argument, returned from a function and assigned to a variable."
   ]
  },
  {
   "cell_type": "code",
   "execution_count": 2,
   "id": "bd828fbc",
   "metadata": {},
   "outputs": [
    {
     "name": "stdout",
     "output_type": "stream",
     "text": [
      "<function square at 0x7f82104df9d0>\n",
      "<function square at 0x7f82104df9d0>\n",
      "25\n"
     ]
    }
   ],
   "source": [
    "# Example\n",
    "def square(x):\n",
    "    return x*x\n",
    "\n",
    "f=square\n",
    "\n",
    "#The variable f is now a function and we can use the variable f as a function. \n",
    "print(square)\n",
    "print(f)\n",
    "print(f(5))"
   ]
  },
  {
   "cell_type": "code",
   "execution_count": 6,
   "id": "db9caa79",
   "metadata": {},
   "outputs": [
    {
     "name": "stdout",
     "output_type": "stream",
     "text": [
      "[1, 4, 9, 16, 25]\n"
     ]
    }
   ],
   "source": [
    "#Passing function as an arument of another function\n",
    "#example map\n",
    "\n",
    "def my_map(func,arg_list):\n",
    "    result=[]\n",
    "    for i in arg_list:\n",
    "        result.append(func(i))\n",
    "    return result\n",
    "\n",
    "squares = my_map(square,[1,2,3,4,5])\n",
    "print(squares)"
   ]
  },
  {
   "cell_type": "code",
   "execution_count": 8,
   "id": "00c5d9df",
   "metadata": {},
   "outputs": [
    {
     "data": {
      "text/plain": [
       "[1, 8, 27, 64, 125]"
      ]
     },
     "execution_count": 8,
     "metadata": {},
     "output_type": "execute_result"
    }
   ],
   "source": [
    "def cube(x):\n",
    "    return x*x*x\n",
    "\n",
    "my_map(cube,[1,2,3,4,5])"
   ]
  },
  {
   "cell_type": "code",
   "execution_count": 10,
   "id": "ae42ffc6",
   "metadata": {},
   "outputs": [
    {
     "name": "stdout",
     "output_type": "stream",
     "text": [
      "Log: Hi!\n"
     ]
    }
   ],
   "source": [
    "def logger(msg):\n",
    "    def log_message():\n",
    "        print('Log:',msg)\n",
    "    return log_message\n",
    "\n",
    "#Set the log_hi variable equal to the logger function + a message as an argument\n",
    "log_hi=logger('Hi!')\n",
    "\n",
    "#run the log hi variable like a function with the parenthesis, it executes the function. \n",
    "# The function remembers the message that was passed in\n",
    "# This is an example of logger\n",
    "log_hi()"
   ]
  },
  {
   "cell_type": "code",
   "execution_count": 14,
   "id": "233ebc49",
   "metadata": {},
   "outputs": [
    {
     "name": "stdout",
     "output_type": "stream",
     "text": [
      "<function html_tag.<locals>.wrap_text at 0x7f81d00474c0>\n",
      "<h1>Test_headline!</h1>\n",
      "<h1>Another headline!</h1>\n"
     ]
    }
   ],
   "source": [
    "def html_tag(tag):\n",
    "    def wrap_text(msg):\n",
    "        print('<{0}>{1}</{0}>'.format(tag,msg))\n",
    "    return wrap_text\n",
    "\n",
    "print_h1=html_tag('h1')\n",
    "print(print_h1)\n",
    "\n",
    "#Now we can use the print_h1 variable as a function\n",
    "print_h1('Test_headline!')\n",
    "\n",
    "#run the wrap text function again, remembering the 'h1' tag that was passwed to the print_h1 at the html_tag() level\n",
    "print_h1('Another headline!')"
   ]
  }
 ],
 "metadata": {
  "kernelspec": {
   "display_name": "Python 3 (ipykernel)",
   "language": "python",
   "name": "python3"
  },
  "language_info": {
   "codemirror_mode": {
    "name": "ipython",
    "version": 3
   },
   "file_extension": ".py",
   "mimetype": "text/x-python",
   "name": "python",
   "nbconvert_exporter": "python",
   "pygments_lexer": "ipython3",
   "version": "3.9.7"
  }
 },
 "nbformat": 4,
 "nbformat_minor": 5
}
