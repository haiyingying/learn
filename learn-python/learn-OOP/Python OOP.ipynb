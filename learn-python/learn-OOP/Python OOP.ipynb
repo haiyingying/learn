{
 "cells": [
  {
   "cell_type": "markdown",
   "id": "dbfb07be",
   "metadata": {},
   "source": [
    "# Part 1 - creating and initiating classes\n",
    "* allow us to group data (attribute) and function (method) to be reused\n",
    "* a class is a blueprint for creating instannces\n",
    "* an instance is an object created using the class. Each instance has its location and memory"
   ]
  },
  {
   "cell_type": "code",
   "execution_count": 1,
   "id": "1777ccb4",
   "metadata": {},
   "outputs": [],
   "source": [
    "#For example, if we have a class (blueprint) to represent an employee\n",
    "class Employee: \n",
    "    pass #skip"
   ]
  },
  {
   "cell_type": "code",
   "execution_count": 3,
   "id": "7e20a1f0",
   "metadata": {},
   "outputs": [],
   "source": [
    "#Create instances\n",
    "emp_1=Employee()\n",
    "emp_2=Employee()"
   ]
  },
  {
   "cell_type": "code",
   "execution_count": 5,
   "id": "8cf0b73b",
   "metadata": {},
   "outputs": [],
   "source": [
    "emp_1.first='Corey'\n",
    "emp_1.last='Schafer'\n",
    "emp_1.email='corey.schafer@company.com'\n",
    "emp_1.pay=50000"
   ]
  },
  {
   "cell_type": "code",
   "execution_count": 6,
   "id": "f009aaf7",
   "metadata": {},
   "outputs": [],
   "source": [
    "emp_2.first='Test'\n",
    "emp_2.last='user'\n",
    "emp_2.email='test.user@company.com'\n",
    "emp_2.pay=60000"
   ]
  },
  {
   "cell_type": "code",
   "execution_count": 7,
   "id": "89ecad84",
   "metadata": {},
   "outputs": [
    {
     "name": "stdout",
     "output_type": "stream",
     "text": [
      "test.user@company.com\n"
     ]
    }
   ],
   "source": [
    "print(emp_2.email)\n",
    "#This is difficult and easy to make mistake"
   ]
  },
  {
   "cell_type": "markdown",
   "id": "7ac06134",
   "metadata": {},
   "source": [
    "## Define an init method"
   ]
  },
  {
   "cell_type": "code",
   "execution_count": 10,
   "id": "1067f36a",
   "metadata": {},
   "outputs": [],
   "source": [
    "class Employee: \n",
    "    #when we create a method within a class, the method receives the instance as the first argument. By convention, it is called self\n",
    "    \n",
    "    def __init__(self,first,last,pay):\n",
    "        self.first=first\n",
    "        self.last=last\n",
    "        self.pay=pay\n",
    "        self.email = str.lower(first)+'.'+str.lower(last)+'@company.com'\n",
    "        \n"
   ]
  },
  {
   "cell_type": "code",
   "execution_count": 26,
   "id": "534e272a",
   "metadata": {},
   "outputs": [
    {
     "data": {
      "text/plain": [
       "'av'"
      ]
     },
     "execution_count": 26,
     "metadata": {},
     "output_type": "execute_result"
    }
   ],
   "source": [
    "str.lower('AV')"
   ]
  },
  {
   "cell_type": "code",
   "execution_count": 12,
   "id": "71f24765",
   "metadata": {},
   "outputs": [],
   "source": [
    "#Create instances with the init method\n",
    "emp_1=Employee('Corey','Schafer',50000)\n",
    "emp_2=Employee('Test','User',60000)"
   ]
  },
  {
   "cell_type": "code",
   "execution_count": 14,
   "id": "d4f9508e",
   "metadata": {},
   "outputs": [
    {
     "name": "stdout",
     "output_type": "stream",
     "text": [
      "corey.schafer@company.com\n"
     ]
    }
   ],
   "source": [
    "print(emp_1.email)"
   ]
  },
  {
   "cell_type": "code",
   "execution_count": 17,
   "id": "254b4d3d",
   "metadata": {},
   "outputs": [
    {
     "name": "stdout",
     "output_type": "stream",
     "text": [
      "corey schafer\n"
     ]
    }
   ],
   "source": [
    "#This requires a lot of argument\n",
    "print('{} {}'.format(emp_1.first,emp_1.last))"
   ]
  },
  {
   "cell_type": "markdown",
   "id": "a94c2899",
   "metadata": {},
   "source": [
    "## Define another method to print the name"
   ]
  },
  {
   "cell_type": "code",
   "execution_count": 27,
   "id": "4686f4fb",
   "metadata": {},
   "outputs": [],
   "source": [
    "class Employee: \n",
    "    #when we create a method within a class, the method receives the instance as the first argument. By convention, it is called self\n",
    "    \n",
    "    def __init__(self,first,last,pay):\n",
    "        self.first=first\n",
    "        self.last=last\n",
    "        self.pay=pay\n",
    "        self.email = str.lower(first)+'.'+str.lower(last)+'@company.com'\n",
    "    \n",
    "    def fullname(self):\n",
    "        return '{} {}'.format(self.first,self.last)\n",
    "    \n",
    "    \n",
    "    \n",
    "    "
   ]
  },
  {
   "cell_type": "code",
   "execution_count": 28,
   "id": "01765065",
   "metadata": {},
   "outputs": [],
   "source": [
    "#Create instances agaain\n",
    "emp_1=Employee('Corey','Schafer',50000)\n",
    "emp_2=Employee('Test','User',60000)"
   ]
  },
  {
   "cell_type": "code",
   "execution_count": 29,
   "id": "f12652c5",
   "metadata": {},
   "outputs": [
    {
     "data": {
      "text/plain": [
       "'Corey Schafer'"
      ]
     },
     "execution_count": 29,
     "metadata": {},
     "output_type": "execute_result"
    }
   ],
   "source": [
    "# We don't need to pass in any argument. The instance itself is passed in as the first argument \n",
    "emp_1.fullname()"
   ]
  },
  {
   "cell_type": "code",
   "execution_count": 31,
   "id": "0f9ff1dd",
   "metadata": {},
   "outputs": [
    {
     "data": {
      "text/plain": [
       "'Corey Schafer'"
      ]
     },
     "execution_count": 31,
     "metadata": {},
     "output_type": "execute_result"
    }
   ],
   "source": [
    "# When we call the method on the class it doesn't know what argument to be used so we need to pass in the instance itself\n",
    "Employee.fullname(emp_1)"
   ]
  },
  {
   "cell_type": "markdown",
   "id": "f7ee65da",
   "metadata": {},
   "source": [
    "## Part 2 - class variables"
   ]
  },
  {
   "cell_type": "code",
   "execution_count": 61,
   "id": "7189acf6",
   "metadata": {},
   "outputs": [],
   "source": [
    "class Employee: \n",
    "    \n",
    "    #set a raise_amount as an variable\n",
    "    raise_amount=1.04\n",
    "    \n",
    "    def __init__(self,first,last,pay):\n",
    "        self.first=first\n",
    "        self.last=last\n",
    "        self.pay=pay\n",
    "        self.email = str.lower(first)+'.'+str.lower(last)+'@company.com'\n",
    "    \n",
    "    def fullname(self):\n",
    "        return '{} {}'.format(self.first,self.last)\n",
    "    \n",
    "    def apply_raise(self):\n",
    "        #when we access the class variable, we need to call the access the variable from the class OR the instance itself\n",
    "        self.pay=int(self.pay*Employee.raise_amount)\n",
    "        #self.pay=int(self.pay*self.raise_amount)"
   ]
  },
  {
   "cell_type": "code",
   "execution_count": 76,
   "id": "2e96d986",
   "metadata": {},
   "outputs": [],
   "source": [
    "emp_1=Employee('Corey','Schafer',50000)\n",
    "emp_2=Employee('Test','User',60000)"
   ]
  },
  {
   "cell_type": "code",
   "execution_count": 63,
   "id": "b9459ea3",
   "metadata": {},
   "outputs": [],
   "source": [
    "emp_1.apply_raise()"
   ]
  },
  {
   "cell_type": "code",
   "execution_count": 64,
   "id": "05b9c1fc",
   "metadata": {},
   "outputs": [
    {
     "data": {
      "text/plain": [
       "52000"
      ]
     },
     "execution_count": 64,
     "metadata": {},
     "output_type": "execute_result"
    }
   ],
   "source": [
    "emp_1.pay"
   ]
  },
  {
   "cell_type": "code",
   "execution_count": 66,
   "id": "c31c6ec1",
   "metadata": {},
   "outputs": [
    {
     "name": "stdout",
     "output_type": "stream",
     "text": [
      "1.04\n",
      "1.04\n",
      "1.04\n"
     ]
    }
   ],
   "source": [
    "# When we call the attribute from an instance, it will check whether the instance has the attribute itself. \n",
    "# If the instance doesn't have the attribute, it will try to use the attribute from the class from which the instance interited. \n",
    "print(Employee.raise_amount)\n",
    "print(emp_1.raise_amount)\n",
    "print(emp_2.raise_amount)"
   ]
  },
  {
   "cell_type": "code",
   "execution_count": 67,
   "id": "fca1671e",
   "metadata": {},
   "outputs": [
    {
     "name": "stdout",
     "output_type": "stream",
     "text": [
      "{'first': 'Corey', 'last': 'Schafer', 'pay': 52000, 'email': 'corey.schafer@company.com'}\n"
     ]
    }
   ],
   "source": [
    "print(emp_1.__dict__)"
   ]
  },
  {
   "cell_type": "code",
   "execution_count": 68,
   "id": "62ec0c8a",
   "metadata": {},
   "outputs": [
    {
     "name": "stdout",
     "output_type": "stream",
     "text": [
      "{'__module__': '__main__', 'raise_amount': 1.04, '__init__': <function Employee.__init__ at 0x7ffdb004bee0>, 'fullname': <function Employee.fullname at 0x7ffdb004bf70>, 'apply_raise': <function Employee.apply_raise at 0x7ffdb0067040>, '__dict__': <attribute '__dict__' of 'Employee' objects>, '__weakref__': <attribute '__weakref__' of 'Employee' objects>, '__doc__': None}\n"
     ]
    }
   ],
   "source": [
    "print(Employee.__dict__)"
   ]
  },
  {
   "cell_type": "code",
   "execution_count": 77,
   "id": "d9d28f27",
   "metadata": {},
   "outputs": [
    {
     "name": "stdout",
     "output_type": "stream",
     "text": [
      "1.05\n",
      "1.05\n",
      "1.05\n"
     ]
    }
   ],
   "source": [
    "#Set the employee raise amount of the CLASS, it change sthe raise amount of the class AND the instances\n",
    "Employee.raise_amount=1.05\n",
    "print(Employee.raise_amount)\n",
    "print(emp_1.raise_amount)\n",
    "print(emp_2.raise_amount)"
   ]
  },
  {
   "cell_type": "code",
   "execution_count": 73,
   "id": "61a86d1f",
   "metadata": {},
   "outputs": [
    {
     "name": "stdout",
     "output_type": "stream",
     "text": [
      "1.05\n",
      "1.06\n",
      "1.05\n"
     ]
    }
   ],
   "source": [
    "# Only the attribute of the instance is updated\n",
    "#It updates the attribute of the instance before searching for the attribute from the class \n",
    "emp_1.raise_amount=1.06\n",
    "print(Employee.raise_amount)\n",
    "print(emp_1.raise_amount)\n",
    "print(emp_2.raise_amount)"
   ]
  },
  {
   "cell_type": "markdown",
   "id": "02d35567",
   "metadata": {},
   "source": [
    "## Example where the attribute does not relate to self"
   ]
  },
  {
   "cell_type": "code",
   "execution_count": 78,
   "id": "2b64a6b6",
   "metadata": {},
   "outputs": [],
   "source": [
    "#Let's say we want to keep track of the number of employees \n",
    "class Employee: \n",
    "    \n",
    "    num_of_emps=0\n",
    "    \n",
    "    #set a raise_amount as an variable\n",
    "    raise_amount=1.04\n",
    "    \n",
    "    def __init__(self,first,last,pay):\n",
    "        self.first=first\n",
    "        self.last=last\n",
    "        self.pay=pay\n",
    "        self.email = str.lower(first)+'.'+str.lower(last)+'@company.com'\n",
    "        #The class value is overridden every time the init function is called \n",
    "        Employee.num_of_emps+=1\n",
    "    \n",
    "    def fullname(self):\n",
    "        return '{} {}'.format(self.first,self.last)\n",
    "    \n",
    "    def apply_raise(self):\n",
    "        #when we access the class variable, we need to call the access the variable from the class OR the instance itself\n",
    "        self.pay=int(self.pay*Employee.raise_amount)\n",
    "        #self.pay=int(self.pay*self.raise_amount)\n",
    "        "
   ]
  },
  {
   "cell_type": "code",
   "execution_count": 79,
   "id": "87c6872b",
   "metadata": {},
   "outputs": [
    {
     "name": "stdout",
     "output_type": "stream",
     "text": [
      "0\n"
     ]
    }
   ],
   "source": [
    "print(Employee.num_of_emps)"
   ]
  },
  {
   "cell_type": "code",
   "execution_count": 80,
   "id": "632c273e",
   "metadata": {},
   "outputs": [],
   "source": [
    "emp_1=Employee('Corey','Schafer',50000)\n",
    "emp_2=Employee('Test','User',60000)"
   ]
  },
  {
   "cell_type": "code",
   "execution_count": 81,
   "id": "f979e3cf",
   "metadata": {},
   "outputs": [
    {
     "name": "stdout",
     "output_type": "stream",
     "text": [
      "2\n"
     ]
    }
   ],
   "source": [
    "print(Employee.num_of_emps)"
   ]
  },
  {
   "cell_type": "markdown",
   "id": "80325531",
   "metadata": {},
   "source": [
    "# Regular method, class method and static methods\n",
    "Regular method takes in the instance as the first argument. \n",
    "\n",
    "Class method takes in the class as the argument\n",
    "\n",
    "We use an decorator '@' to declare a class method"
   ]
  },
  {
   "cell_type": "markdown",
   "id": "08fe8e7c",
   "metadata": {},
   "source": [
    "## Class method\n",
    "working with the class instead of the instance "
   ]
  },
  {
   "cell_type": "code",
   "execution_count": 94,
   "id": "df3ae8a2",
   "metadata": {},
   "outputs": [],
   "source": [
    "#Let's say we want to keep track of the number of employees \n",
    "class Employee: \n",
    "    \n",
    "    num_of_emps=0\n",
    "    \n",
    "    #set a raise_amount as an variable\n",
    "    raise_amount=1.04\n",
    "    \n",
    "    def __init__(self,first,last,pay):\n",
    "        self.first=first\n",
    "        self.last=last\n",
    "        self.pay=pay\n",
    "        self.email = str.lower(first)+'.'+str.lower(last)+'@company.com'\n",
    "        #The class value is overridden every time the init function is called \n",
    "        Employee.num_of_emps+=1\n",
    "    \n",
    "    def fullname(self):\n",
    "        return '{} {}'.format(self.first,self.last)\n",
    "    \n",
    "    def apply_raise(self):\n",
    "        self.pay=int(self.pay*self.raise_amount)\n",
    "        \n",
    "    @classmethod\n",
    "    #use cls as the class variable name\n",
    "    def set_raise_amt(cls,amount):\n",
    "        cls.raise_amount=amount"
   ]
  },
  {
   "cell_type": "code",
   "execution_count": 95,
   "id": "a3638c0d",
   "metadata": {},
   "outputs": [
    {
     "name": "stdout",
     "output_type": "stream",
     "text": [
      "1.04\n",
      "1.04\n",
      "1.04\n"
     ]
    }
   ],
   "source": [
    "emp_1=Employee('Corey','Schafer',50000)\n",
    "emp_2=Employee('Test','User',60000)\n",
    "print(Employee.raise_amount)\n",
    "print(emp_1.raise_amount)\n",
    "print(emp_2.raise_amount)"
   ]
  },
  {
   "cell_type": "code",
   "execution_count": 96,
   "id": "51926be8",
   "metadata": {},
   "outputs": [],
   "source": [
    "Employee.set_raise_amt(1.05)"
   ]
  },
  {
   "cell_type": "code",
   "execution_count": 97,
   "id": "aa553cf5",
   "metadata": {},
   "outputs": [
    {
     "name": "stdout",
     "output_type": "stream",
     "text": [
      "1.05\n",
      "1.05\n",
      "1.05\n"
     ]
    }
   ],
   "source": [
    "print(Employee.raise_amount)\n",
    "print(emp_1.raise_amount)\n",
    "print(emp_2.raise_amount)"
   ]
  },
  {
   "cell_type": "markdown",
   "id": "6d672402",
   "metadata": {},
   "source": [
    "## Alternative constructor"
   ]
  },
  {
   "cell_type": "code",
   "execution_count": 104,
   "id": "9a1a7109",
   "metadata": {},
   "outputs": [
    {
     "data": {
      "text/plain": [
       "'john.doe@company.com'"
      ]
     },
     "execution_count": 104,
     "metadata": {},
     "output_type": "execute_result"
    }
   ],
   "source": [
    "### For Example, if we want to create an employee by parsing a string\n",
    "emp_str_1='John-Doe-70000'\n",
    "emp_str_2='Steve-Smith-30000'\n",
    "emp_str_3='Jane-Doe-90000'\n",
    "\n",
    "first,last,pay = emp_str_1.split('-')\n",
    "\n",
    "new_emp_1=Employee(first,last,pay)\n",
    "new_emp_1.email"
   ]
  },
  {
   "cell_type": "code",
   "execution_count": 106,
   "id": "f6c0a8a4",
   "metadata": {},
   "outputs": [],
   "source": [
    "class Employee: \n",
    "    \n",
    "    num_of_emps=0\n",
    "    \n",
    "    #set a raise_amount as an variable\n",
    "    raise_amount=1.04\n",
    "    \n",
    "    def __init__(self,first,last,pay):\n",
    "        self.first=first\n",
    "        self.last=last\n",
    "        self.pay=pay\n",
    "        self.email = str.lower(first)+'.'+str.lower(last)+'@company.com'\n",
    "        #The class value is overridden every time the init function is called \n",
    "        Employee.num_of_emps+=1\n",
    "    \n",
    "    def fullname(self):\n",
    "        return '{} {}'.format(self.first,self.last)\n",
    "    \n",
    "    def apply_raise(self):\n",
    "        self.pay=int(self.pay*self.raise_amount)\n",
    "        \n",
    "    @classmethod\n",
    "    #use cls as the class variable name\n",
    "    def set_raise_amt(cls,amount):\n",
    "        cls.raise_amount=amount\n",
    "    \n",
    "    @classmethod\n",
    "    #an alternative constructor to create a new object\n",
    "    def from_string(cls,emp_str):\n",
    "        #cls is basically Employee\n",
    "        first,last,pay = emp_str_1.split('-')\n",
    "        \n",
    "        #return the new object\n",
    "        return cls(first,last,pay)"
   ]
  },
  {
   "cell_type": "code",
   "execution_count": 108,
   "id": "c0be2d3d",
   "metadata": {},
   "outputs": [
    {
     "data": {
      "text/plain": [
       "'john.doe@company.com'"
      ]
     },
     "execution_count": 108,
     "metadata": {},
     "output_type": "execute_result"
    }
   ],
   "source": [
    "new_emp_1=Employee.from_string(emp_str_1)\n",
    "new_emp_1.email"
   ]
  },
  {
   "cell_type": "markdown",
   "id": "14d81f69",
   "metadata": {},
   "source": [
    "## Static method\n",
    "* regular method automatically passes instance as the first argument - self\n",
    "* class method automatically passes the cass as the first argument - cls\n",
    "* static method does not take any argument. It doesn't operate on the instance or the class"
   ]
  },
  {
   "cell_type": "code",
   "execution_count": 111,
   "id": "095e0077",
   "metadata": {},
   "outputs": [],
   "source": [
    "class Employee: \n",
    "    \n",
    "    num_of_emps=0\n",
    "    \n",
    "    #set a raise_amount as an variable\n",
    "    raise_amount=1.04\n",
    "    \n",
    "    def __init__(self,first,last,pay):\n",
    "        self.first=first\n",
    "        self.last=last\n",
    "        self.pay=pay\n",
    "        self.email = str.lower(first)+'.'+str.lower(last)+'@company.com'\n",
    "        #The class value is overridden every time the init function is called \n",
    "        Employee.num_of_emps+=1\n",
    "    \n",
    "    def fullname(self):\n",
    "        return '{} {}'.format(self.first,self.last)\n",
    "    \n",
    "    def apply_raise(self):\n",
    "        self.pay=int(self.pay*self.raise_amount)\n",
    "        \n",
    "    @classmethod\n",
    "    #use cls as the class variable name\n",
    "    def set_raise_amt(cls,amount):\n",
    "        cls.raise_amount=amount\n",
    "    \n",
    "    @classmethod\n",
    "    #an alternative constructor to create a new object\n",
    "    def from_string(cls,emp_str):\n",
    "        #cls is basically Employee\n",
    "        first,last,pay = emp_str_1.split('-')\n",
    "        \n",
    "        #return the new object\n",
    "        return cls(first,last,pay)\n",
    "    \n",
    "    \n",
    "    @staticmethod \n",
    "    def is_workday(day):\n",
    "        if day.weekday==5 or day.weekday()==6:\n",
    "            return False\n",
    "        return True\n",
    "    \n",
    "    \n",
    "    "
   ]
  },
  {
   "cell_type": "code",
   "execution_count": 114,
   "id": "3cd7e176",
   "metadata": {},
   "outputs": [
    {
     "name": "stdout",
     "output_type": "stream",
     "text": [
      "True\n"
     ]
    }
   ],
   "source": [
    "import datetime\n",
    "mydate = datetime.date(2016,7,11)\n",
    "print(Employee.is_workday(mydate))"
   ]
  },
  {
   "cell_type": "markdown",
   "id": "c7a17f84",
   "metadata": {},
   "source": [
    "# Part 4 - sub classes\n",
    "* method resolution order - chain of inheritence that python will walk up if a method is not found in the class"
   ]
  },
  {
   "cell_type": "code",
   "execution_count": 118,
   "id": "a2a78495",
   "metadata": {},
   "outputs": [],
   "source": [
    "#specifies which class we want to inherit from \n",
    "class Developer(Employee):\n",
    "    pass"
   ]
  },
  {
   "cell_type": "code",
   "execution_count": 127,
   "id": "29291b45",
   "metadata": {},
   "outputs": [
    {
     "name": "stdout",
     "output_type": "stream",
     "text": [
      "test.developer@company.com\n"
     ]
    }
   ],
   "source": [
    "# The subclass Developer will inherit all the attributes and method from Employee\n",
    "dev_1=Developer('Corey','Schafer',50000)\n",
    "dev_2=Developer('Test','Developer',60000)\n",
    "print(dev_2.email)"
   ]
  },
  {
   "cell_type": "code",
   "execution_count": 120,
   "id": "8ed7bf4b",
   "metadata": {},
   "outputs": [
    {
     "name": "stdout",
     "output_type": "stream",
     "text": [
      "Help on class Developer in module __main__:\n",
      "\n",
      "class Developer(Employee)\n",
      " |  Developer(first, last, pay)\n",
      " |  \n",
      " |  Method resolution order:\n",
      " |      Developer\n",
      " |      Employee\n",
      " |      builtins.object\n",
      " |  \n",
      " |  Methods inherited from Employee:\n",
      " |  \n",
      " |  __init__(self, first, last, pay)\n",
      " |      Initialize self.  See help(type(self)) for accurate signature.\n",
      " |  \n",
      " |  apply_raise(self)\n",
      " |  \n",
      " |  fullname(self)\n",
      " |  \n",
      " |  ----------------------------------------------------------------------\n",
      " |  Class methods inherited from Employee:\n",
      " |  \n",
      " |  from_string(emp_str) from builtins.type\n",
      " |  \n",
      " |  set_raise_amt(amount) from builtins.type\n",
      " |  \n",
      " |  ----------------------------------------------------------------------\n",
      " |  Static methods inherited from Employee:\n",
      " |  \n",
      " |  is_workday(day)\n",
      " |  \n",
      " |  ----------------------------------------------------------------------\n",
      " |  Data descriptors inherited from Employee:\n",
      " |  \n",
      " |  __dict__\n",
      " |      dictionary for instance variables (if defined)\n",
      " |  \n",
      " |  __weakref__\n",
      " |      list of weak references to the object (if defined)\n",
      " |  \n",
      " |  ----------------------------------------------------------------------\n",
      " |  Data and other attributes inherited from Employee:\n",
      " |  \n",
      " |  num_of_emps = 4\n",
      " |  \n",
      " |  raise_amount = 1.04\n",
      "\n",
      "None\n"
     ]
    }
   ],
   "source": [
    "print(help(Developer))"
   ]
  },
  {
   "cell_type": "code",
   "execution_count": 128,
   "id": "6dbe30fc",
   "metadata": {},
   "outputs": [
    {
     "name": "stdout",
     "output_type": "stream",
     "text": [
      "50000\n",
      "60000\n",
      "52000\n",
      "60000\n"
     ]
    }
   ],
   "source": [
    "print(dev_1.pay)\n",
    "print(dev_2.pay)\n",
    "\n",
    "dev_1.apply_raise()\n",
    "print(dev_1.pay)\n",
    "print(dev_2.pay)\n"
   ]
  },
  {
   "cell_type": "code",
   "execution_count": 131,
   "id": "86bd774e",
   "metadata": {},
   "outputs": [],
   "source": [
    "#customise the subclass \n",
    "class Developer(Employee):\n",
    "    #but changing the attribute in the sub class, it will not alter the attribute in the parent class\n",
    "    raise_amount=1.1"
   ]
  },
  {
   "cell_type": "code",
   "execution_count": 132,
   "id": "2dd946be",
   "metadata": {},
   "outputs": [],
   "source": [
    "dev_1=Developer('Corey','Schafer',50000)\n",
    "dev_2=Developer('Test','Developer',60000)"
   ]
  },
  {
   "cell_type": "code",
   "execution_count": 133,
   "id": "4ba1296d",
   "metadata": {},
   "outputs": [
    {
     "name": "stdout",
     "output_type": "stream",
     "text": [
      "50000\n",
      "55000\n"
     ]
    }
   ],
   "source": [
    "print(dev_1.pay)\n",
    "\n",
    "dev_1.apply_raise()\n",
    "print(dev_1.pay)\n"
   ]
  },
  {
   "cell_type": "code",
   "execution_count": 134,
   "id": "20f8a67d",
   "metadata": {},
   "outputs": [
    {
     "name": "stdout",
     "output_type": "stream",
     "text": [
      "50000\n",
      "52000\n"
     ]
    }
   ],
   "source": [
    "#If we change the object back to the Employee class, we get the same 2% raise\n",
    "dev_1=Employee('Corey','Schafer',50000)\n",
    "print(dev_1.pay)\n",
    "\n",
    "dev_1.apply_raise()\n",
    "print(dev_1.pay)\n"
   ]
  },
  {
   "cell_type": "markdown",
   "id": "a892b630",
   "metadata": {},
   "source": [
    "## Customise the subclass init method by interiting from Employee"
   ]
  },
  {
   "cell_type": "code",
   "execution_count": 138,
   "id": "9b950c2b",
   "metadata": {},
   "outputs": [],
   "source": [
    "#customise the subclass \n",
    "class Developer(Employee):\n",
    "    #but changing the attribute in the sub class, it will not alter the attribute in the parent class\n",
    "    raise_amount=1.1\n",
    "    \n",
    "    def __init__(self,first,last,pay,prog_lang):\n",
    "        #Let the upper class handles the first three arguments\n",
    "        super().__init__(first,last,pay)\n",
    "        self.prog_lang=prog_lang\n",
    "        \n",
    "        "
   ]
  },
  {
   "cell_type": "code",
   "execution_count": 140,
   "id": "d25a67bd",
   "metadata": {},
   "outputs": [
    {
     "data": {
      "text/plain": [
       "'Python'"
      ]
     },
     "execution_count": 140,
     "metadata": {},
     "output_type": "execute_result"
    }
   ],
   "source": [
    "dev_1=Developer('Corey','Schafer',50000,'Python')\n",
    "dev_2=Developer('Test','Developer',60000,'JAVA')\n",
    "\n",
    "dev_1.prog_lang"
   ]
  },
  {
   "cell_type": "code",
   "execution_count": 155,
   "id": "cf762235",
   "metadata": {},
   "outputs": [],
   "source": [
    "#The manager subclass is inheriting the Employee class \n",
    "class Manager(Employee):\n",
    "    \n",
    "    def __init__(self,first,last,pay,employees=None):\n",
    "        #Let the upper class handles the first three arguments\n",
    "        super().__init__(first,last,pay)\n",
    "        if employees is None:\n",
    "            self.employees=[]\n",
    "        else:\n",
    "            self.employees=employees\n",
    "    \n",
    "    def add_emp(self,emp):\n",
    "        if emp not in self.employees:\n",
    "            self.employees.append(emp)\n",
    "    \n",
    "    #method to remove employee\n",
    "    def remove_emp(self,emp):\n",
    "        if emp in self.employees:\n",
    "            self.employees.remove(emp)\n",
    "    \n",
    "    def print_emps(self):\n",
    "        for emp in self.employees:\n",
    "            print('-->',emp.fullname())"
   ]
  },
  {
   "cell_type": "code",
   "execution_count": 156,
   "id": "76f0ad21",
   "metadata": {},
   "outputs": [
    {
     "name": "stdout",
     "output_type": "stream",
     "text": [
      "sue.smith@company.com\n"
     ]
    }
   ],
   "source": [
    "mgr_1=Manager('Sue','Smith',90000,[dev_1])\n",
    "print(mgr_1.email)"
   ]
  },
  {
   "cell_type": "code",
   "execution_count": 157,
   "id": "b635ce80",
   "metadata": {},
   "outputs": [
    {
     "name": "stdout",
     "output_type": "stream",
     "text": [
      "--> Corey Schafer\n"
     ]
    }
   ],
   "source": [
    "mgr_1.print_emps()"
   ]
  },
  {
   "cell_type": "code",
   "execution_count": 158,
   "id": "9beaf458",
   "metadata": {},
   "outputs": [
    {
     "name": "stdout",
     "output_type": "stream",
     "text": [
      "--> Corey Schafer\n",
      "--> Test Developer\n"
     ]
    }
   ],
   "source": [
    "mgr_1.add_emp(dev_2)\n",
    "mgr_1.print_emps()"
   ]
  },
  {
   "cell_type": "code",
   "execution_count": 159,
   "id": "21683c4c",
   "metadata": {},
   "outputs": [
    {
     "name": "stdout",
     "output_type": "stream",
     "text": [
      "--> Test Developer\n"
     ]
    }
   ],
   "source": [
    "mgr_1.remove_emp(dev_1)\n",
    "mgr_1.print_emps()"
   ]
  },
  {
   "cell_type": "markdown",
   "id": "a410d999",
   "metadata": {},
   "source": [
    "## Is instance and is subclass \n",
    "\n",
    "* isinstance = whether an object of a class\n",
    "* issubclass = whether an class is a sub class of another"
   ]
  },
  {
   "cell_type": "code",
   "execution_count": 162,
   "id": "ea8fdbbd",
   "metadata": {},
   "outputs": [
    {
     "data": {
      "text/plain": [
       "False"
      ]
     },
     "execution_count": 162,
     "metadata": {},
     "output_type": "execute_result"
    }
   ],
   "source": [
    "isinstance(mgr_1,Developer)"
   ]
  },
  {
   "cell_type": "code",
   "execution_count": 163,
   "id": "e5fc602e",
   "metadata": {},
   "outputs": [
    {
     "data": {
      "text/plain": [
       "True"
      ]
     },
     "execution_count": 163,
     "metadata": {},
     "output_type": "execute_result"
    }
   ],
   "source": [
    "isinstance(mgr_1,Manager)"
   ]
  },
  {
   "cell_type": "code",
   "execution_count": 165,
   "id": "f759df25",
   "metadata": {},
   "outputs": [
    {
     "data": {
      "text/plain": [
       "True"
      ]
     },
     "execution_count": 165,
     "metadata": {},
     "output_type": "execute_result"
    }
   ],
   "source": [
    "issubclass(Manager,Employee)"
   ]
  },
  {
   "cell_type": "markdown",
   "id": "e12d3648",
   "metadata": {},
   "source": [
    "# Part 5 - Magic / Dunder Methods\n",
    "\n",
    "Dunder repr and str change how the object is displayed\n",
    "\n",
    "* Dunder init = __init__: init surrounded by double underscore\n",
    "* __repr__ : unambiguous representation of the object used for debugging to print out the object\n",
    "* __str__: readable representation of the object used to display to the end user"
   ]
  },
  {
   "cell_type": "code",
   "execution_count": 166,
   "id": "65f4a769",
   "metadata": {},
   "outputs": [
    {
     "data": {
      "text/plain": [
       "'<__main__.Employee object at 0x7ffdb006b730>'"
      ]
     },
     "execution_count": 166,
     "metadata": {},
     "output_type": "execute_result"
    }
   ],
   "source": [
    "repr(emp_1)"
   ]
  },
  {
   "cell_type": "code",
   "execution_count": 167,
   "id": "12c9f121",
   "metadata": {},
   "outputs": [
    {
     "data": {
      "text/plain": [
       "'<__main__.Employee object at 0x7ffdb006b730>'"
      ]
     },
     "execution_count": 167,
     "metadata": {},
     "output_type": "execute_result"
    }
   ],
   "source": [
    "str(emp_1)"
   ]
  },
  {
   "cell_type": "code",
   "execution_count": 169,
   "id": "35686f9a",
   "metadata": {},
   "outputs": [
    {
     "name": "stdout",
     "output_type": "stream",
     "text": [
      "<__main__.Employee object at 0x7ffdb006b730>\n"
     ]
    }
   ],
   "source": [
    "print(emp_1)"
   ]
  },
  {
   "cell_type": "code",
   "execution_count": 168,
   "id": "39aa08e1",
   "metadata": {},
   "outputs": [],
   "source": [
    "#Dunder repr and dunder str \n",
    "class Employee: \n",
    "    \n",
    "    num_of_emps=0\n",
    "    \n",
    "    #set a raise_amount as an variable\n",
    "    raise_amount=1.04\n",
    "    \n",
    "    def __init__(self,first,last,pay):\n",
    "        self.first=first\n",
    "        self.last=last\n",
    "        self.pay=pay\n",
    "        self.email = str.lower(first)+'.'+str.lower(last)+'@company.com'\n",
    "        #The class value is overridden every time the init function is called \n",
    "        Employee.num_of_emps+=1\n",
    "    \n",
    "    def fullname(self):\n",
    "        return '{} {}'.format(self.first,self.last)\n",
    "    \n",
    "    def apply_raise(self):\n",
    "        #when we access the class variable, we need to call the access the variable from the class OR the instance itself\n",
    "        self.pay=int(self.pay*Employee.raise_amount)\n",
    "        \n",
    "    def __repr__(self):\n",
    "        return \"Employee('{}','{}','{}')\".format(self.first,self.last,self.pay)\n",
    "    "
   ]
  },
  {
   "cell_type": "code",
   "execution_count": 170,
   "id": "03daf26d",
   "metadata": {},
   "outputs": [],
   "source": [
    "emp_1=Employee('Corey','Schafer',50000)\n",
    "emp_2=Employee('Test','User',60000)"
   ]
  },
  {
   "cell_type": "code",
   "execution_count": 171,
   "id": "aca10e7c",
   "metadata": {},
   "outputs": [
    {
     "name": "stdout",
     "output_type": "stream",
     "text": [
      "Employee('Corey','Schafer','50000')\n"
     ]
    }
   ],
   "source": [
    "print(emp_1)"
   ]
  },
  {
   "cell_type": "code",
   "execution_count": 185,
   "id": "ce81b1a8",
   "metadata": {},
   "outputs": [],
   "source": [
    "#Dunder repr and dunder str \n",
    "class Employee: \n",
    "    \n",
    "    num_of_emps=0\n",
    "    \n",
    "    #set a raise_amount as an variable\n",
    "    raise_amount=1.04\n",
    "    \n",
    "    def __init__(self,first,last,pay):\n",
    "        self.first=first\n",
    "        self.last=last\n",
    "        self.pay=pay\n",
    "        self.email = str.lower(first)+'.'+str.lower(last)+'@company.com'\n",
    "        #The class value is overridden every time the init function is called \n",
    "        Employee.num_of_emps+=1\n",
    "    \n",
    "    def fullname(self):\n",
    "        return '{} {}'.format(self.first,self.last)\n",
    "    \n",
    "    def apply_raise(self):\n",
    "        #when we access the class variable, we need to call the access the variable from the class OR the instance itself\n",
    "        self.pay=int(self.pay*Employee.raise_amount)\n",
    "        \n",
    "    #repr is for the developer - also a fall back for the dunder str method\n",
    "    def __repr__(self):\n",
    "        return \"Employee('{}','{}','{}')\".format(self.first,self.last,self.pay)\n",
    "    \n",
    "    #str is for the end user\n",
    "    def __str__(self):\n",
    "        return '{} - {}'.format(self.fullname(),self.email)\n",
    "    \n",
    "    \n",
    "    \n",
    "    "
   ]
  },
  {
   "cell_type": "code",
   "execution_count": 186,
   "id": "e943d09c",
   "metadata": {},
   "outputs": [],
   "source": [
    "emp_1=Employee('Corey','Schafer',50000)\n",
    "emp_2=Employee('Test','User',60000)"
   ]
  },
  {
   "cell_type": "code",
   "execution_count": 187,
   "id": "084aa9bc",
   "metadata": {},
   "outputs": [
    {
     "data": {
      "text/plain": [
       "\"Employee('Corey','Schafer','50000')\""
      ]
     },
     "execution_count": 187,
     "metadata": {},
     "output_type": "execute_result"
    }
   ],
   "source": [
    "repr(emp_1)"
   ]
  },
  {
   "cell_type": "code",
   "execution_count": 188,
   "id": "8205521a",
   "metadata": {},
   "outputs": [
    {
     "data": {
      "text/plain": [
       "'Corey Schafer - corey.schafer@company.com'"
      ]
     },
     "execution_count": 188,
     "metadata": {},
     "output_type": "execute_result"
    }
   ],
   "source": [
    "str(emp_1)"
   ]
  },
  {
   "cell_type": "code",
   "execution_count": 183,
   "id": "2b2497f9",
   "metadata": {},
   "outputs": [
    {
     "name": "stdout",
     "output_type": "stream",
     "text": [
      "Corey Schafer - corey.schafer@company.com\n"
     ]
    }
   ],
   "source": [
    "print(emp_1)"
   ]
  },
  {
   "cell_type": "markdown",
   "id": "589acb55",
   "metadata": {},
   "source": [
    "### Dunder method - add"
   ]
  },
  {
   "cell_type": "code",
   "execution_count": 200,
   "id": "98cba02a",
   "metadata": {},
   "outputs": [],
   "source": [
    "#Dunder repr and dunder str \n",
    "class Employee: \n",
    "    \n",
    "    num_of_emps=0\n",
    "    \n",
    "    #set a raise_amount as an variable\n",
    "    raise_amount=1.04\n",
    "    \n",
    "    def __init__(self,first,last,pay):\n",
    "        self.first=first\n",
    "        self.last=last\n",
    "        self.pay=pay\n",
    "        self.email = str.lower(first)+'.'+str.lower(last)+'@company.com'\n",
    "        #The class value is overridden every time the init function is called \n",
    "        Employee.num_of_emps+=1\n",
    "    \n",
    "    def fullname(self):\n",
    "        return '{} {}'.format(self.first,self.last)\n",
    "    \n",
    "    def apply_raise(self):\n",
    "        #when we access the class variable, we need to call the access the variable from the class OR the instance itself\n",
    "        self.pay=int(self.pay*Employee.raise_amount)\n",
    "        \n",
    "    #repr is for the developer - also a fall back for the dunder str method\n",
    "    def __repr__(self):\n",
    "        return \"Employee('{}','{}','{}')\".format(self.first,self.last,self.pay)\n",
    "    \n",
    "    #str is for the end user\n",
    "    def __str__(self):\n",
    "        return '{} - {}'.format(self.fullname(),self.email)\n",
    "    \n",
    "    #class specific add method\n",
    "    def __add__(self,other):\n",
    "        if isinstance(other,Employee):\n",
    "            return self.pay +other.pay\n",
    "        else:\n",
    "             #at least self or other needs to know how to handle the method\n",
    "            # if the dunder add defined by self does not know how to handle it\n",
    "            # instead of throwing an error, it lets the other object to try to handle it\n",
    "            # If none of them know how to handle it, it will eventually throw an error\n",
    "            return NotImplemented\n"
   ]
  },
  {
   "cell_type": "code",
   "execution_count": 201,
   "id": "cf03441d",
   "metadata": {},
   "outputs": [],
   "source": [
    "emp_1=Employee('Corey','Schafer',50000)\n",
    "emp_2=Employee('Test','User',60000)"
   ]
  },
  {
   "cell_type": "code",
   "execution_count": 202,
   "id": "583a3624",
   "metadata": {},
   "outputs": [
    {
     "data": {
      "text/plain": [
       "110000"
      ]
     },
     "execution_count": 202,
     "metadata": {},
     "output_type": "execute_result"
    }
   ],
   "source": [
    "emp_1 + emp_2"
   ]
  },
  {
   "cell_type": "markdown",
   "id": "96933352",
   "metadata": {},
   "source": [
    "### Dunder method - len"
   ]
  },
  {
   "cell_type": "code",
   "execution_count": 192,
   "id": "a2b86e20",
   "metadata": {},
   "outputs": [
    {
     "data": {
      "text/plain": [
       "4"
      ]
     },
     "execution_count": 192,
     "metadata": {},
     "output_type": "execute_result"
    }
   ],
   "source": [
    "len('test')"
   ]
  },
  {
   "cell_type": "code",
   "execution_count": 193,
   "id": "bcbfcbd2",
   "metadata": {},
   "outputs": [
    {
     "data": {
      "text/plain": [
       "4"
      ]
     },
     "execution_count": 193,
     "metadata": {},
     "output_type": "execute_result"
    }
   ],
   "source": [
    "'test'.__len__()"
   ]
  },
  {
   "cell_type": "code",
   "execution_count": 198,
   "id": "61a2e04b",
   "metadata": {},
   "outputs": [],
   "source": [
    "#Dunder repr and dunder str \n",
    "class Employee: \n",
    "    \n",
    "    num_of_emps=0\n",
    "    \n",
    "    #set a raise_amount as an variable\n",
    "    raise_amount=1.04\n",
    "    \n",
    "    def __init__(self,first,last,pay):\n",
    "        self.first=first\n",
    "        self.last=last\n",
    "        self.pay=pay\n",
    "        self.email = str.lower(first)+'.'+str.lower(last)+'@company.com'\n",
    "        #The class value is overridden every time the init function is called \n",
    "        Employee.num_of_emps+=1\n",
    "    \n",
    "    def fullname(self):\n",
    "        return '{} {}'.format(self.first,self.last)\n",
    "    \n",
    "    def apply_raise(self):\n",
    "        #when we access the class variable, we need to call the access the variable from the class OR the instance itself\n",
    "        self.pay=int(self.pay*Employee.raise_amount)\n",
    "        \n",
    "    #repr is for the developer - also a fall back for the dunder str method\n",
    "    def __repr__(self):\n",
    "        return \"Employee('{}','{}','{}')\".format(self.first,self.last,self.pay)\n",
    "    \n",
    "    #str is for the end user\n",
    "    def __str__(self):\n",
    "        return '{} - {}'.format(self.fullname(),self.email)\n",
    "    \n",
    "    #class specific add method\n",
    "    def __add__(self,other):\n",
    "        return self.pay +other.pay\n",
    "    \n",
    "    def __len__(self):\n",
    "        return len(self.fullname())"
   ]
  },
  {
   "cell_type": "code",
   "execution_count": 199,
   "id": "21c1e92e",
   "metadata": {},
   "outputs": [
    {
     "data": {
      "text/plain": [
       "13"
      ]
     },
     "execution_count": 199,
     "metadata": {},
     "output_type": "execute_result"
    }
   ],
   "source": [
    "emp_1=Employee('Corey','Schafer',50000)\n",
    "len(emp_1)"
   ]
  },
  {
   "cell_type": "markdown",
   "id": "480c5cf4",
   "metadata": {},
   "source": [
    "# Part 5 - Property decorator"
   ]
  },
  {
   "cell_type": "code",
   "execution_count": 205,
   "id": "6cf887d4",
   "metadata": {},
   "outputs": [],
   "source": [
    "class Employee: \n",
    "    \n",
    "    def __init__(self,first,last):\n",
    "        self.first=first\n",
    "        self.last=last\n",
    "        self.pay=pay\n",
    "        self.email = str.lower(first)+'.'+str.lower(last)+'@company.com'\n",
    "\n",
    "    def fullname(self):\n",
    "        return '{} {}'.format(self.first,self.last)\n"
   ]
  },
  {
   "cell_type": "code",
   "execution_count": 206,
   "id": "bc4a605f",
   "metadata": {},
   "outputs": [
    {
     "name": "stdout",
     "output_type": "stream",
     "text": [
      "john.smith@company.com\n",
      "John Smith\n"
     ]
    }
   ],
   "source": [
    "emp_1=Employee('John','Smith')\n",
    "print(emp_1.email)\n",
    "print(emp_1.fullname())\n"
   ]
  },
  {
   "cell_type": "code",
   "execution_count": 210,
   "id": "9535b80e",
   "metadata": {},
   "outputs": [],
   "source": [
    "class Employee: \n",
    "    \n",
    "    def __init__(self,first,last):\n",
    "        self.first=first\n",
    "        self.last=last\n",
    "        self.pay=pay\n",
    "        self.email = str.lower(first)+'.'+str.lower(last)+'@company.com'\n",
    "\n",
    "    def fullname(self):\n",
    "        return '{} {}'.format(self.first,self.last)\n",
    "    \n"
   ]
  },
  {
   "cell_type": "code",
   "execution_count": 211,
   "id": "b5abd274",
   "metadata": {},
   "outputs": [
    {
     "name": "stdout",
     "output_type": "stream",
     "text": [
      "john.smith@company.com\n",
      "Jim Smith\n"
     ]
    }
   ],
   "source": [
    "emp_1=Employee('John','Smith')\n",
    "#it only updates the first name not the email\n",
    "emp_1.first = 'Jim'\n",
    "print(emp_1.email)\n",
    "print(emp_1.fullname())"
   ]
  },
  {
   "cell_type": "markdown",
   "id": "6de2e4f6",
   "metadata": {},
   "source": [
    "## Property declarator"
   ]
  },
  {
   "cell_type": "code",
   "execution_count": 217,
   "id": "46a67172",
   "metadata": {},
   "outputs": [],
   "source": [
    "class Employee: \n",
    "    \n",
    "    def __init__(self,first,last):\n",
    "        self.first=first\n",
    "        self.last=last\n",
    "        self.pay=pay\n",
    "        #self.email = str.lower(first)+'.'+str.lower(last)+'@company.com'\n",
    "    @property\n",
    "    def fullname(self):\n",
    "        return '{} {}'.format(self.first,self.last)\n",
    "\n",
    "    #By adding the property operator, Now we define our email like a method but we are able to access it like an attribute without the parentesis \n",
    "    @property\n",
    "    def email(self):\n",
    "        return '{}.{}@email.com'.format(self.first,self.last)"
   ]
  },
  {
   "cell_type": "code",
   "execution_count": 220,
   "id": "73c070c5",
   "metadata": {},
   "outputs": [
    {
     "name": "stdout",
     "output_type": "stream",
     "text": [
      "Jim.Smith@email.com\n",
      "Jim Smith\n"
     ]
    }
   ],
   "source": [
    "emp_1=Employee('John','Smith')\n",
    "emp_1.first = 'Jim'\n",
    "print(emp_1.email)\n",
    "print(emp_1.fullname)"
   ]
  },
  {
   "cell_type": "code",
   "execution_count": null,
   "id": "07807e9f",
   "metadata": {},
   "outputs": [],
   "source": [
    "emp_1=Employee('John','Smith')\n",
    "emp_1.first = 'Jim'\n",
    "print(emp_1.email)\n",
    "print(emp_1.fullname)"
   ]
  },
  {
   "cell_type": "markdown",
   "id": "39cefecc",
   "metadata": {},
   "source": [
    "## Setter declarator"
   ]
  },
  {
   "cell_type": "code",
   "execution_count": 228,
   "id": "e9e2b4bf",
   "metadata": {},
   "outputs": [],
   "source": [
    "class Employee: \n",
    "    \n",
    "    def __init__(self,first,last):\n",
    "        self.first=first\n",
    "        self.last=last\n",
    "        self.pay=pay\n",
    "        #self.email = str.lower(first)+'.'+str.lower(last)+'@company.com'\n",
    "\n",
    "    @property\n",
    "    def fullname(self):\n",
    "        return '{} {}'.format(self.first,self.last)\n",
    "        \n",
    "\n",
    "    @property\n",
    "    def email(self):\n",
    "        return '{}.{}@email.com'.format(self.first,self.last)\n",
    "    \n",
    "    @fullname.setter\n",
    "    def fullname(self,name):\n",
    "        first,last=name.split(' ')\n",
    "        self.first=first\n",
    "        self.last=last\n",
    "    "
   ]
  },
  {
   "cell_type": "code",
   "execution_count": 229,
   "id": "779950f2",
   "metadata": {},
   "outputs": [
    {
     "name": "stdout",
     "output_type": "stream",
     "text": [
      "Corey.Schafer@email.com\n",
      "Corey Schafer\n"
     ]
    }
   ],
   "source": [
    "emp_1=Employee('John','Smith')\n",
    "emp_1.fullname = 'Corey Schafer'\n",
    "print(emp_1.email)\n",
    "print(emp_1.fullname)"
   ]
  },
  {
   "cell_type": "code",
   "execution_count": 233,
   "id": "563c7b15",
   "metadata": {},
   "outputs": [],
   "source": [
    "class Employee: \n",
    "    \n",
    "    def __init__(self,first,last):\n",
    "        self.first=first\n",
    "        self.last=last\n",
    "        self.pay=pay\n",
    "        #self.email = str.lower(first)+'.'+str.lower(last)+'@company.com'\n",
    "\n",
    "    @property\n",
    "    def fullname(self):\n",
    "        return '{} {}'.format(self.first,self.last)\n",
    "        \n",
    "\n",
    "    @property\n",
    "    def email(self):\n",
    "        return '{}.{}@email.com'.format(self.first,self.last)\n",
    "    \n",
    "    @fullname.setter\n",
    "    def fullname(self,name):\n",
    "        first,last=name.split(' ')\n",
    "        self.first=first\n",
    "        self.last=last\n",
    "    \n",
    "    #deleter deletes an attribute\n",
    "    @fullname.deleter\n",
    "    def fullname(self):\n",
    "        print('Deleted name!')\n",
    "        self.first=None\n",
    "        self.last=None"
   ]
  },
  {
   "cell_type": "code",
   "execution_count": 234,
   "id": "c470b5cc",
   "metadata": {},
   "outputs": [
    {
     "name": "stdout",
     "output_type": "stream",
     "text": [
      "Corey.Schafer@email.com\n",
      "Corey Schafer\n"
     ]
    }
   ],
   "source": [
    "emp_1=Employee('John','Smith')\n",
    "emp_1.fullname = 'Corey Schafer'\n",
    "print(emp_1.email)\n",
    "print(emp_1.fullname)"
   ]
  },
  {
   "cell_type": "code",
   "execution_count": 235,
   "id": "d7e552b0",
   "metadata": {},
   "outputs": [
    {
     "name": "stdout",
     "output_type": "stream",
     "text": [
      "Deleted name!\n"
     ]
    }
   ],
   "source": [
    "del emp_1.fullname"
   ]
  }
 ],
 "metadata": {
  "kernelspec": {
   "display_name": "Python 3 (ipykernel)",
   "language": "python",
   "name": "python3"
  },
  "language_info": {
   "codemirror_mode": {
    "name": "ipython",
    "version": 3
   },
   "file_extension": ".py",
   "mimetype": "text/x-python",
   "name": "python",
   "nbconvert_exporter": "python",
   "pygments_lexer": "ipython3",
   "version": "3.9.7"
  }
 },
 "nbformat": 4,
 "nbformat_minor": 5
}
